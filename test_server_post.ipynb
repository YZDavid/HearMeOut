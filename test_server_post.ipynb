{
 "cells": [
  {
   "cell_type": "code",
   "execution_count": 24,
   "metadata": {},
   "outputs": [],
   "source": [
    "import requests\n",
    "from bs4 import BeautifulSoup\n",
    "import sqlite3\n",
    "import os\n",
    "BASE = \"http://127.0.0.1:5000\""
   ]
  },
  {
   "cell_type": "markdown",
   "metadata": {},
   "source": [
    "## Testing text summariser POST method"
   ]
  },
  {
   "cell_type": "code",
   "execution_count": 10,
   "metadata": {},
   "outputs": [],
   "source": [
    "sample_text = \"\"\"\n",
    "Python was conceived in the late 1980s[43] by Guido van Rossum at Centrum Wiskunde & Informatica (CWI) in the Netherlands as a successor to the ABC programming language, which was inspired by SETL,[44] capable of exception handling and interfacing with the Amoeba operating system.[13] Its implementation began in December 1989.[45] Van Rossum shouldered sole responsibility for the project, as the lead developer, until 12 July 2018, when he announced his \"permanent vacation\" from his responsibilities as Python's \"benevolent dictator for life\", a title the Python community bestowed upon him to reflect his long-term commitment as the project's chief decision-maker.[46] In January 2019, active Python core developers elected a five-member Steering Council to lead the project.[47][48]\n",
    "\n",
    "Python 2.0 was released on 16 October 2000, with many major new features such as list comprehensions, cycle-detecting garbage collection, reference counting, and Unicode support.[49] Python 3.0, released on 3 December 2008, with many of its major features backported to Python 2.6.x[50] and 2.7.x. Releases of Python 3 include the 2to3 utility, which automates the translation of Python 2 code to Python 3.[51]\n",
    "\n",
    "Python 2.7's end-of-life was initially set for 2015, then postponed to 2020 out of concern that a large body of existing code could not easily be forward-ported to Python 3.[52][53] No further security patches or other improvements will be released for it.[54][55] Currently only 3.7 and later are supported. In 2021, Python 3.9.2 and 3.8.8 were expedited[56] as all versions of Python (including 2.7[57]) had security issues leading to possible remote code execution[58] and web cache poisoning.[59]\n",
    "\n",
    "In 2022, Python 3.10.4 and 3.9.12 were expedited[60] and 3.8.13, and 3.7.13, because of many security issues.[61] When Python 3.9.13 was released in May 2022, it was announced that the 3.9 series (joining the older series 3.8 and 3.7) would only receive security fixes in the future.[62] On September 7, 2022, four new releases were made due to a potential denial-of-service attack: 3.10.7, 3.9.14, 3.8.14, and 3.7.14.[63][64]\n",
    "\n",
    "As of November 2022, Python 3.11 is the stable release. Notable changes from 3.10 include increased program execution speed and improved error reporting.[65]\n",
    "\"\"\""
   ]
  },
  {
   "cell_type": "code",
   "execution_count": 11,
   "metadata": {},
   "outputs": [
    {
     "name": "stdout",
     "output_type": "stream",
     "text": [
      "200\n",
      "Python was conceived in the late 1980s[43] by Guido van Rossum at Centrum Wiskunde & Informatica (CWI) in the Netherlands as a successor to the ABC programming language. Its implementation began in December 1989. Python 2.0 was released on 16 October 2000, with many major new features such as list comprehensions, cycle-detecting garbage collection, reference counting, and Unicode support.\n"
     ]
    }
   ],
   "source": [
    "summariser_response = requests.post(BASE + \"/summarise\", data={\"input\": sample_text})\n",
    "print(summariser_response.status_code)\n",
    "if summariser_response.status_code == 200:\n",
    "    parsed_html = BeautifulSoup(summariser_response.content)\n",
    "    output = parsed_html.body.find('div', {'id': 'output'}).text\n",
    "    print(output)"
   ]
  },
  {
   "cell_type": "markdown",
   "metadata": {},
   "source": [
    "## Testing URL summariser POST method"
   ]
  },
  {
   "cell_type": "code",
   "execution_count": 12,
   "metadata": {},
   "outputs": [],
   "source": [
    "url = \"https://en.wikipedia.org/wiki/Python_(programming_language)\""
   ]
  },
  {
   "cell_type": "code",
   "execution_count": 13,
   "metadata": {},
   "outputs": [
    {
     "name": "stdout",
     "output_type": "stream",
     "text": [
      "200\n",
      "General-purpose programming languagePython is a high-level, general-purpose programming language.\n",
      "[35][36]Guido van Rossum began working on Python in the late 1980s as a successor to the ABC programming language and first released it in 1991 as Python 0.9.0.\n",
      "Releases of Python 3 include the 2to3 utility, which automates the translation of Python 2 code to Python 3.\n",
      "Object-oriented programming and structured programming are fully supported, and many of their features support functional programming and aspect-oriented programming (including metaprogramming[66] and metaobjects).\n",
      "Python 3.10 deprecated wstr (to be removed in Python 3.12; meaning Python extensions[170] need to be modified by then),[171] and added pattern matching to the language.\n"
     ]
    }
   ],
   "source": [
    "url_summariser_response = requests.post(BASE + \"/url_summarise\", data={\"url_input\": url})\n",
    "print(url_summariser_response.status_code)\n",
    "if url_summariser_response.status_code == 200:\n",
    "    parsed_html = BeautifulSoup(url_summariser_response.content)\n",
    "    output = parsed_html.body.find('div', {'id': 'output'}).text\n",
    "    print(output)"
   ]
  },
  {
   "cell_type": "markdown",
   "metadata": {},
   "source": [
    "## Testing text summariser POST method - with audio flag"
   ]
  },
  {
   "cell_type": "code",
   "execution_count": 15,
   "metadata": {},
   "outputs": [
    {
     "name": "stdout",
     "output_type": "stream",
     "text": [
      "200\n",
      "<audio controls=\"\" src=\"/static/audio/audio_1691612950.mp3\">\n",
      "<a href=\"/static/audio/audio_1691612950.mp3\">\n",
      "                        Download audio\n",
      "                    </a>\n",
      "</audio>\n"
     ]
    }
   ],
   "source": [
    "summariser_response = requests.post(BASE + \"/summarise\", data={\"input\": sample_text, \"audio\": \"on\"})\n",
    "print(summariser_response.status_code)\n",
    "if summariser_response.status_code == 200:\n",
    "    parsed_html = BeautifulSoup(summariser_response.content)\n",
    "    output = parsed_html.body.find('audio')\n",
    "    print(output)"
   ]
  },
  {
   "cell_type": "markdown",
   "metadata": {},
   "source": [
    "## Testing URL summariser POST method - with audio flag"
   ]
  },
  {
   "cell_type": "code",
   "execution_count": 16,
   "metadata": {},
   "outputs": [
    {
     "name": "stdout",
     "output_type": "stream",
     "text": [
      "200\n",
      "<audio controls=\"\" src=\"/static/audio/audio_1691612952.mp3\">\n",
      "<a href=\"/static/audio/audio_1691612952.mp3\">\n",
      "                        Download audio\n",
      "                    </a>\n",
      "</audio>\n"
     ]
    }
   ],
   "source": [
    "url_summariser_response = requests.post(BASE + \"/url_summarise\", data={\"url_input\": url, \"audio\": \"on\"})\n",
    "print(url_summariser_response.status_code)\n",
    "if url_summariser_response.status_code == 200:\n",
    "    parsed_html = BeautifulSoup(url_summariser_response.content)\n",
    "    output = parsed_html.body.find('audio')\n",
    "    print(output)"
   ]
  },
  {
   "cell_type": "markdown",
   "metadata": {},
   "source": [
    "## Testing the delete function"
   ]
  },
  {
   "cell_type": "code",
   "execution_count": 28,
   "metadata": {},
   "outputs": [
    {
     "data": {
      "text/plain": [
       "[1, 2, 3, 4, 5]"
      ]
     },
     "execution_count": 28,
     "metadata": {},
     "output_type": "execute_result"
    }
   ],
   "source": [
    "conn = sqlite3.connect('database.db')\n",
    "cursor = conn.cursor()\n",
    "res = cursor.execute(\"SELECT id FROM conversions\")\n",
    "ids = [id[0] for id in res.fetchall()]\n",
    "ids"
   ]
  },
  {
   "cell_type": "code",
   "execution_count": 29,
   "metadata": {},
   "outputs": [
    {
     "data": {
      "text/plain": [
       "3"
      ]
     },
     "execution_count": 29,
     "metadata": {},
     "output_type": "execute_result"
    }
   ],
   "source": [
    "len(os.listdir(os.path.join(os.getcwd(), \"static\", \"audio\")))"
   ]
  },
  {
   "cell_type": "code",
   "execution_count": 30,
   "metadata": {},
   "outputs": [],
   "source": [
    "for id in ids:\n",
    "    delete_response = requests.get(BASE + \"/delete/\" + str(id))\n",
    "    delete_response.status_code"
   ]
  },
  {
   "cell_type": "code",
   "execution_count": 31,
   "metadata": {},
   "outputs": [
    {
     "data": {
      "text/plain": [
       "[]"
      ]
     },
     "execution_count": 31,
     "metadata": {},
     "output_type": "execute_result"
    }
   ],
   "source": [
    "conn = sqlite3.connect('database.db')\n",
    "cursor = conn.cursor()\n",
    "res = cursor.execute(\"SELECT id FROM conversions\")\n",
    "res.fetchall()"
   ]
  },
  {
   "cell_type": "code",
   "execution_count": 32,
   "metadata": {},
   "outputs": [
    {
     "data": {
      "text/plain": [
       "0"
      ]
     },
     "execution_count": 32,
     "metadata": {},
     "output_type": "execute_result"
    }
   ],
   "source": [
    "len(os.listdir(os.path.join(os.getcwd(), \"static\", \"audio\")))"
   ]
  }
 ],
 "metadata": {
  "kernelspec": {
   "display_name": "Python 3",
   "language": "python",
   "name": "python3"
  },
  "language_info": {
   "codemirror_mode": {
    "name": "ipython",
    "version": 3
   },
   "file_extension": ".py",
   "mimetype": "text/x-python",
   "name": "python",
   "nbconvert_exporter": "python",
   "pygments_lexer": "ipython3",
   "version": "3.11.3"
  },
  "orig_nbformat": 4
 },
 "nbformat": 4,
 "nbformat_minor": 2
}
