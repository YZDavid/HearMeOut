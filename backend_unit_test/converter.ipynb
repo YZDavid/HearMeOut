{
 "cells": [
  {
   "cell_type": "code",
   "execution_count": 47,
   "metadata": {},
   "outputs": [],
   "source": [
    "with open('summary_files/blog.txt', 'r', encoding='utf8') as f:\n",
    "    blog = f.read()"
   ]
  },
  {
   "cell_type": "code",
   "execution_count": 48,
   "metadata": {},
   "outputs": [],
   "source": [
    "with open('summary_files/book.txt', 'r', encoding='utf8') as f:\n",
    "    book = f.read()"
   ]
  },
  {
   "cell_type": "code",
   "execution_count": 49,
   "metadata": {},
   "outputs": [],
   "source": [
    "with open('summary_files/news.txt', 'r', encoding='utf8') as f:\n",
    "    news = f.read()"
   ]
  },
  {
   "cell_type": "code",
   "execution_count": 50,
   "metadata": {},
   "outputs": [],
   "source": [
    "with open('summary_files/scientific.txt', 'r', encoding='utf8') as f:\n",
    "    scientific = f.read()"
   ]
  },
  {
   "cell_type": "code",
   "execution_count": 5,
   "metadata": {},
   "outputs": [
    {
     "name": "stdout",
     "output_type": "stream",
     "text": [
      "4796\n",
      "32081\n",
      "2069\n",
      "26056\n"
     ]
    }
   ],
   "source": [
    "print(len(blog))\n",
    "print(len(book))\n",
    "print(len(news))\n",
    "print(len(scientific))"
   ]
  },
  {
   "cell_type": "code",
   "execution_count": 6,
   "metadata": {},
   "outputs": [],
   "source": [
    "import importlib"
   ]
  },
  {
   "cell_type": "code",
   "execution_count": 16,
   "metadata": {},
   "outputs": [],
   "source": [
    "import converter"
   ]
  },
  {
   "cell_type": "code",
   "execution_count": 15,
   "metadata": {},
   "outputs": [
    {
     "data": {
      "text/plain": [
       "<module 'converter' from 'c:\\\\Users\\\\user\\\\Documents\\\\GitHub\\\\HearMeOut\\\\backend_api\\\\converter.py'>"
      ]
     },
     "execution_count": 15,
     "metadata": {},
     "output_type": "execute_result"
    }
   ],
   "source": [
    "importlib.reload(converter)"
   ]
  },
  {
   "cell_type": "code",
   "execution_count": 17,
   "metadata": {},
   "outputs": [],
   "source": [
    "from converter import summary, summary2"
   ]
  },
  {
   "cell_type": "code",
   "execution_count": 60,
   "metadata": {},
   "outputs": [],
   "source": [
    "book_out = converter2.summary(book)"
   ]
  },
  {
   "cell_type": "code",
   "execution_count": 52,
   "metadata": {},
   "outputs": [],
   "source": [
    "blog_out = converter2.summary(blog)"
   ]
  },
  {
   "cell_type": "code",
   "execution_count": 53,
   "metadata": {},
   "outputs": [],
   "source": [
    "news_out = converter2.summary(news)\n"
   ]
  },
  {
   "cell_type": "code",
   "execution_count": 59,
   "metadata": {},
   "outputs": [],
   "source": [
    "sci_out = converter2.summary(scientific)"
   ]
  },
  {
   "cell_type": "code",
   "execution_count": 62,
   "metadata": {},
   "outputs": [
    {
     "data": {
      "text/plain": [
       "[\"Charles Bukowski was an alcoholic, a womanizer, a chronic gambler, a lout, a cheapskate, a deadbeat, and on his worst days, a poet. Bukowski wanted to be a writer, but for decades his work was rejected by almost every magazine, newspaper, journal, agent, and publisher he submitted to. The genius in Bukowski’s work was not in overcoming unbelievable odds or developing himself into a shining literary light. It was his simple ability to be completely, unflinchingly honest with himself, and to share his failings without hesitation or doubt. This is the real story of Bukowski's success: his comfort with himself as a failure. He didn’t give a fuck about success. Even after his fame, he still showed up to poetry readings hammered and verbally abused people in his audience. He still exposed himself in public and tried to sleep with every woman he could find. Self-improvement and success often occur together. But that’re not necessarily the same thing. Our culture today is obsessively focused on unrealistically positive expectations. Be happier, healthier, richer, sexier, more popular, more productive, more admired. Be perfect and crap out-karat-gold nuggets before breakfast.\",\n",
       " \"The world is constantly telling you that the path to a better life is more. The key to a good life is not giving a fuck about more; it’s giving aFuck about less. The Feedback Loop from Hell is an insidious quirk to your brain that, if you let it, can drive you absolutely batty. It causes you to become overly attached to the superficial and fake, to dedicate your life to chasing a mirage of happiness and satisfaction. It can also make you angry at yourself for getting angry at the stupidest, most inane stuff, and then, in your petty rage, you realize that being angry all the time makes you a shallow and mean person, and you hate this; you hate it so much. Welcome to the Feedback Loop. Chances are you’ve engaged in it more than a few times right now: “God, I should stop calling myself a loser! Ah, I do the FeedbackLoop.” It’ll make you feel sad and alone just thinking about it, and even more sad just thinking it about it. Here, punch it with a fist. Here’S what it feels like to be a loser. Or you become so worried about doing the right thing every time that you begin to feel so guilty for how much you have to worry about how guilty you're feeling.\",\n",
       " \"The Feedback Loop from Hell has become a borderline epidemic, making many of us overly stressed, overly neurotic, and overly self-loathing. We feel bad about feeling bad, we feel guilty for feeling guilty, we get angry about getting angry. We get anxious about feeling anxious. What is wrong with me? This is why not giving a fuck is so key. And it’s going to save it by accepting that the world is totally fucked and that’S all right, because it's always been that way, and always will be. We joke online about “first-world problems,” but we really have become victims of our own success. Stress-related health issues, anxiety disorders, and cases of depression have skyrocketed over the past thirty years, despite the fact that everyone has a flat-screen TV and can have their groceries delivered. Our crisis is no longer material; it's existential, it's spiritual. We have so much fucking stuff and so many opportunities that we don’t even know what to give a fuck about anymore. How to Be Happy has been shared eight million times on Facebook in the past few years. The desire for more positive experience itself is a negative experience itself. And, paradoxically, the acceptance of one's negative experience is a positive experience in and of itself.\",\n",
       " 'The more you want to be rich, the more poor and unworthy you feel. Being open with your insecurities paradoxically makes you more confident and charismatic around others. The pain of honest confrontation is what generates the greatest trust and respect in your relationships. Everything worthwhile in life is won through surmounting the associated negative experience. The avoidance of suffering is a form of suffering. The denial of failure is a failure. Hiding what is shameful is itself a shame. To try to avoid pain is to give too many fucks about pain. In contrast, if you’re able to not give a fuck about the pain, you become unstoppable. For myself, it was the fucks not given that made all the difference. Chances are you know somebody in your life who, at one or another, didn’t give aFuck and then went on to accomplish amazing feats. Just like the road not taken, the non-fucks given are the most defining moments of our lives. The most major switch in our lives is the spontaneous choice to drop out of college and join a rock band; to dump a deadbeat boyfriend whom you caught wearing a few too many pantyhose; to sell most of your possessions and move to South America. These are the moments that define our lives; they are the key to our success.',\n",
       " \"To not give a fuck is to stare down life’s most terrifying and difficult challenges and still take action. Most of us struggle throughout our lives by giving too many fucks in situations where fucks do not deserve to be given. There is a subtle art to not giving a fuck. It takes a lifetime of practice and discipline to achieve. But it is perhaps the most worthy struggle one can undertake in one's life. It's part of our biology to always care about something and therefore to give something a fuck about. The question, then, is: What do we give a give about? Because there's no such thing as a thing as life without giving a give. It’ll eat you alive. You’re going to die one day. You and everyone you know are going to be dead soon. And in the short amount of time between here and there, you have a limited amount of fucks to give. Very few, in fact. And if you go around giving a. fuck about everything and everyone without conscious thought or choice—well, then you’'re going to get. messed up. You will be confined to your own petty, skull-sized hell, burning with entitlement and bluster, running circles around your very own personal Feedback Loop from Hell, in constant motion yet arriving nowhere.\",\n",
       " 'Mark Manson is the type of guy who would write about himself in third person just because he thought it was the right thing to do. This is what is so admirable. The willingness to be different, an outcast, a pariah, all for the sake of one’s own values. The people who just laugh and then do what they believe in anyway. Because they reserve their fucks for only the big things that matter, people give a fuck about them in return. You can’t be an important and life-changing presence for some people without also being a joke and an embarrassment to others. The old saying goes that no matter where you go, there you are. Well, the same is true for adversity and failure. The point is to find the shit you enjoy dealing with. There is nothing else about there is to fuck about. Eighty years of fucks will rain down like a fiery fiery hailstorm of “Back in my day and “People used to show more respect to people who don’ve been through a lot,” he says. “You can bet you can. hand out fucks like ice cream at a goddamn summer camp.” “The problem with people who out-fucks like that is that they don�t have anything more fuck-worthy to dedicate to.’”',\n",
       " \"If you find yourself consistently giving too many fucks about trivial shit that bothers you, chances are you don’t have much going on in your life to give a legitimate fuck about. I believe that today we’re facing a psychological epidemic, one in which people no longer realize it’s okay to suck sometimes. This book will help you think a little bit more clearly about what you're choosing to find important in life and what you’ve chosen to find unimportant. I promise you, when it comes to life/death/death sort of issues, I’m here to help you sort it out. We’ll get to the bottom of it in the next few weeks, but until then, enjoy the ride. I”m looking forward to seeing you on the other side of the page. I hope you enjoy it as much as I did. I love you, too, Mark. I miss you. I Love You, Mark, I Love you, I Will Always Love You. I am so happy to have you as a friend. I wish you the best of luck with your life and I hope to see you again in a few months. I will always love you. Mark. You are so beautiful. You will always be my friend.\",\n",
       " \"The only way to overcome pain is to first learn how to bear it. This book will turn your pain into a tool, your trauma into power, and your problems into slightly better problems. It's a book about moving lightly despite your heavy burdens, resting easier with your greatest fears, laughing at your tears as you cry them. It will teach you to take inventory of your life and scrub out all but the most important items. Think of it as a guide to suffering and how to do it better, more meaningfully.\"]"
      ]
     },
     "execution_count": 62,
     "metadata": {},
     "output_type": "execute_result"
    }
   ],
   "source": [
    "book_out"
   ]
  },
  {
   "cell_type": "code",
   "execution_count": 56,
   "metadata": {},
   "outputs": [
    {
     "data": {
      "text/plain": [
       "['2022 has been rough, one of the few roughest year for myself. Everything changed and pivot so quickly that got myself out of my comfort zone. The world is constantly moving and things changes all the time. We too, adapt to changes and so does our friends and people around us. People come and go and made me realised that they are experiences in our lives and we should never treat them as a possession. valuing experiences more than anything else. Be it family, friends or love ones, I hope to anyone reading this, stay strong and 2023 will be a better year for you. I hope that this article has inspired you to do something similar too, reflect upon how we came in the year 2022 and a pat on the back on surviving yet another year. As 2022 comes to an end, I thank you for reading up and wishing you a wholesome 2023. Back to Mail Online home. Back into the page you came from. Back To The page you were from. back to the page that you came From. Back in the page we came from, back to The page that we were from, Back to the Page you cameFrom. The page we are from, the page from which we came, the one that we are currently on.']"
      ]
     },
     "execution_count": 56,
     "metadata": {},
     "output_type": "execute_result"
    }
   ],
   "source": [
    "blog_out"
   ]
  },
  {
   "cell_type": "code",
   "execution_count": 58,
   "metadata": {},
   "outputs": [
    {
     "data": {
      "text/plain": [
       "589"
      ]
     },
     "execution_count": 58,
     "metadata": {},
     "output_type": "execute_result"
    }
   ],
   "source": [
    "len(news_out[0])"
   ]
  },
  {
   "cell_type": "code",
   "execution_count": 61,
   "metadata": {},
   "outputs": [
    {
     "data": {
      "text/plain": [
       "['There are broadly two types of extractive summarization tasks depending on what the summarization program focuses on. The first is generic summarization, which focuses on obtaining a generic summary or abstract of the collection. The second is query relevant summarization which summarizes objects specific to a query. Summarization systems are able to create both query relevant text summaries and generic machine-generated summaries. Keyphrase extraction is a highly related theme. It can enable document browsing by providing a short summary, improve information retrieval (if documents have keyphrases assigned, a user could search by keyphrase to produce more reliable hits than a full-text search), and be employed in generating index entries for a large text corpus. Depending on the different literature and the definition of key terms, words or phrases, keyphrase extraction can be difficult or difficult to understand. Supervised learning approaches can be used to solve the keyphrase problem. Given a document, we construct an example for each unigram, bigram and text unit found in the document. We then compute various features for each example. Some classifiers make a binary classification for a test example, while others assign a probability of being a keyphrase being a particular word or phrase. Then we can assign positive or negative labels to the examples to learn a classifier that can discriminate between positive and negative examples.',\n",
       " 'Keyphrase extractors are generally evaluated using precision and recall. Precision measures how many of the proposed keyphrases are actually correct. Recall measures howMany of the true keyphRases your system proposed. The two measures can be combined in an F-score, which is the harmonic mean of the two (F = 2PR/(P + R) ). TextRank is a general purpose graph-based algorithm for NLP and languages. It exploits the structure of the text itself to determine the \"central\" keyPhrases that appear in the text in the same way that PageRank selects important Web pages. It can be run on any arbitrary piece of text and it can simply produce output based on the output of the PageRank algorithm. The algorithm is easily portable to new domains and can be used to create text-based recommendation engines for a variety of languages and applications. For more information on TextRank, visit the company\\'s website. The TextRank website can be visited at: http://www.textrank.com/. For more about the TextRank algorithm, see the company’s website at http:// www.textRank.com/ and its blog at http:/www.TextRank.org/blog/2013/01/01.html.',\n",
       " 'PageRank builds a graph using some set of text units as vertices. Edges are created based on word co-occurrence in this application of TextRank. Two vertices are connected by an edge if the unigrams appear within a window of size N in the original text. Since this method simply ranks the individual vertices, we need a way to threshold or produce a limited number of keyphrases. The technique chosen is to set a count T to be a user-specified fraction of the total number of vertices in the graph. Then the top T vertices/unigrams are selected based on their stationary probabilities. A post- processing step is then applied to merge adjacent instances of these TUnigrams. As a result, potentially more or less than T final keyphs will be produced, but the number should be roughly proportional to the length of the originalText. Running PageRank/TextRank on the graph is likely to rank \"learning\" highly. If \"classification\" appears several other places and thus has many neighbors, its importance would contribute to the importance of \"supervised\". If it ends up with a high rank, it will be selected as a top T unigram. This approach has also been used in document summarization. Like keyphrase extraction, Document summarization aims to identify the essence of a document.',\n",
       " 'A promising approach is adaptive document/text summarization. It involves first recognizing the text genre and then applying summarization algorithms optimized for this genre. Some unsupervised summarization approaches are based on finding a \"centroid\" sentence, which is the mean word vector of all the sentences in the document. Then the sentences can be ranked with regard to their similarity to this centroid sentence. A summary is formed by combining the top ranking sentences, using a threshold or length cutoff to limit the size of the summary. Multi-document summarization is an automatic procedure aimed at extraction of information from multiple texts written about the same topic. Resulting summary report allows individual users, as well as professional information consumers, to quickly familiarize themselves with information contained in a large cluster of documents. In a way, multi- document summarization systems are complementing the news aggregators that perform the next step down the road of coping with information overload with response to a question in a single document. The goal of a brief summary is to simplify information and cut down the time required for accessing the original documents, hence limiting the need for refinement for accessing original files.Main article: Multi-Document. summarization creates information reports that are both concise and comprehensive. With different opinions being put together and outlined, every topic is described and outlined from every topic.',\n",
       " 'Automatic summaries present information extracted from multiple sources algorithmically, without any editorial touch or subjective human intervention. Cross-Sentence Information Subsumption (CSIS) methods work based on the idea that sentences \"recommend\" other similar sentences to the reader. The state of the art results for multi-document summarization are obtained using mixtures of submodular functions. Submodular set functions have recently emerged as a powerful modeling tool for various summarization problems. For example, a simple greedy algorithm admits a constant factor and can be implemented on a large scale. The methods are domain-independent and easily portable, so they can be applied to any domain. They have achieved the state-of-the-art results for Document Summarization Corpora, DUC 04 - 07, and DUC-04-07, as well as the results of the Maximal Marginal Relevance (MMR) algorithm. They are very efficient algorithms for summarization, which is very important for large datasets, and can guarantee a very high level of accuracy. They can also be used to solve combinatorial optimization problems for almost all summarisation problems, such as the set cover problem, where the goal is to find a subset of objects which cover a given set of concepts.',\n",
       " 'For example, work by Lin and Bilmes, 2012[26] shows that submodular functions achieve the best results to date on DUC-04, D UC-05, and Duc-06 systems for document summarization. This was a breakthrough result']"
      ]
     },
     "execution_count": 61,
     "metadata": {},
     "output_type": "execute_result"
    }
   ],
   "source": [
    "sci_out"
   ]
  },
  {
   "cell_type": "code",
   "execution_count": 19,
   "metadata": {},
   "outputs": [],
   "source": [
    "with open('summary_files/text.txt', 'r', encoding='utf8') as f:\n",
    "    text = f.read()"
   ]
  },
  {
   "cell_type": "code",
   "execution_count": 51,
   "metadata": {},
   "outputs": [],
   "source": [
    "import converter2"
   ]
  },
  {
   "cell_type": "code",
   "execution_count": 44,
   "metadata": {},
   "outputs": [
    {
     "data": {
      "text/plain": [
       "<module 'converter2' from 'c:\\\\Users\\\\user\\\\Documents\\\\GitHub\\\\HearMeOut\\\\backend_api\\\\converter2.py'>"
      ]
     },
     "execution_count": 44,
     "metadata": {},
     "output_type": "execute_result"
    }
   ],
   "source": [
    "import importlib\n",
    "importlib.reload(converter2)"
   ]
  },
  {
   "cell_type": "code",
   "execution_count": 45,
   "metadata": {},
   "outputs": [],
   "source": [
    "chunks = converter2.summary(text)"
   ]
  },
  {
   "cell_type": "code",
   "execution_count": 46,
   "metadata": {},
   "outputs": [
    {
     "data": {
      "text/plain": [
       "[\"Market research found that the number one thing that was found was that the television remote control, a fancy look and feel, okay, and not, it specified, not a functional look or or feel, uh b f f fancy. Number two was that it be innovative. And third priority uh for ease of use, so again that kind of gives us a general picture of how it has to be, um quite user friendly while still having technology. And then there's the other aspect of the back the the market um research I have here is on fashion style, okay. Uh top European fashion trend um that I read about says there's this emerging theme of fruit and vegetables, especially in clothes and furniture. And when I first saw that I thought hmm, well do we want to actually try and think about this trend and how we add something to it, or we get right into it. Or we completely steer away from it, do you know what I mean? So my my feeling is that we w do want to observe this trend, but we also want to think also about the fact that it sort of has to fit in with something like a computer, um so I think we might wanna be careful about how quickly we create like a remote control in an apple or the shape of something.\",\n",
       " \"Style is number one uh thing in the in the market of who we're selling to. innovative design technology's also a must in that it's seen it'd be seen to be uh cutting edge, uh but ease of use t has to be insured throughout. And then at the end there are vibrant natural colours um that's the way I interpreted it anyway, softness in materials, shape, and function, and so I've written at written at the bottom to give us sort of a context of discussion, Mac iPods, something which is, I'd have to say very high-tech, ten gigabytes, whatever, but when you hold it in your hand there's like no buttons. So I'm thinking maybe we could incorporate some of these features into a fairly um into something which seems to have something to it which is almost gimmicky because like um like something to do with like lighting within it. Maybe like it could light up in different colours or something or or people could buy the buy the control and then it comes with different like covers or something so. Um those are that's all I have, but uh hopefully we can we can revisit those ideas when we get into Yep. Did you press F_ eight? Yeah. Okay, do we have a corporate colour scheme? I didn't know.\",\n",
       " \"We need to have something that kind of unifies a lot of the different concepts, and if we think that what we are w our number one marketing motive is um the look and feel. We're gonna need to put in a really good battery so people don't have to charge their r remote control every few days. We are leaning quite a bit to the side of being low-tech, rubber buttons plastic frame, it's almost like we're reproducing the remote control that's out there. Should we think about how we are actually getting high-tech user friendly uh um it that we're using to achieve those goals? Okay so so backlighting, that would be really good. Like a phone, people charge them once a week. Whereas with phones, people Charge them once every week. But are people gonna wanna shake their movie controller? Right. Sure. Right. Mm-hmm. Okay, great. Okay. Yeah. Yeah, sure. Yeah Yeah. Sure Sure. Yeah yeah. Sure Yeah. 'Kay' Mm mm. Well i I was just Yeah. I've had kinetic things before, and the the one issue we need to keep in mind with them is that you're committing the user to moving it, and watches yeah Sure, okay, right, okay.\",\n",
       " 'The board is looking for ideas on how to make remote controls easier to use. We\\'re looking for suggestions on the size of control and the buttons, and whereabout the buttons should be located on the control. We also want suggestions on materials and colour schemes for the remote controls. The board is open to the public and can be accessed by clicking on the link below: http://www.cnn.com/2013/01/29/technology/remote-controls/index.html#storylink=cpy. Back to Mail Online home. back to the page you came from.\"How do you like your remote control?\" you ask. \"I\\'d like to hear from you about your remote controls.\" \"What do you think?\" you say. \"What would you like to see?\" \"I\\'ve got a few ideas.\" \"I\\'m not sure if there\\'s any other examples of that, but something to look out for\" \"I think the jog dial, you know it just after you drew that, what if it was flat and you just spun it, that\\'d be great. Yeah. I think the stand-by button isn\\'t always red, uh it really should be. It\\'s uh something the user then identify with. This is a red switch off, that\\'s how it should be\"',\n",
       " \"Meetings are to reach a decision on the concepts of the product. Andrew, Craig and David will present their ideas for the device. Andrew says he'd like to avoid the big square block look. Craig says he would like to go for the same sort of texture and colour as a fruit. David: I think we could go for like um maybe not a p a fruit shape but a very sort of curvy type shape. Andrew: I'm I'd quite like a sort of uh snowman type shape, and then you got maybe another bubble at the top for just any other function you need. Craig: I reckon it'd look quite nice if we just had um this here, had a sorta background yellow and then have sort of a nice bold colour for the buttons. I think that might scare me. Andrew and Craig: Is there anything have I forgotten anything? Is that everything? Okay we all ready to go? Well how um on the in this meeting then if we um I'll just just recap on the minutes from the last meeting. And we decided on decided on our our target group being fifteen to thirty five, and we decided that it was gonna be non-rechargeable battery-powered. And I told you guys about the three new requirements about ignoring teletext, ignoring everything except the T_V_.\",\n",
       " \"Mm-hmm. I think it's yellow because like the website is yellow and there's a band at the bottom is yellow, so yellow, lemon, you know definitely food for thought there, but keep going and we'll discuss it after. A snowman shape? Uh-huh. That's quite a distinctive shape, that would be good wouldn't it. We you couldn't have like plastic and rubber? Yeah. And then we could have curved shapes, 'cause wood or titanium, yeah, it's gonna have to be boxy and rectangular and I think we might be moving away from that you know so um Well I'm do we really want it in like the shape of a lemon or no I don't think we do either. Right can I Yeah well yeah it's just I'm quite keen to get the discussion going with the time we've left so but yeah you c ask away. Mm. Why what kind of light do you want are you thinking of? Yeah yeah yeah. Like a phone yeah, like the backlight in a phone. Okay cool. Okay. Right okay um well let's just go right back to the marketing ideas for a start, and just giving an id idea on the time, we've got about fifteen minutes to play with at most.\",\n",
       " \"Or when you like or if you turn it off or something if it can speak if it could actually say the slogan it might be a bit more powerful than just having it written on it somewhere. I really like the idea of this kinetic thing where you'd have the back-up of the battery, but have have kinetic power. I'm really sorry we're gonna have to wrap up quite quickly, we don't have as much time as I thought. Um is there anything anybody's unsure about? Just for in closing just the next meeting's gonna be in thirty minutes, and so you can see in the screen here what each of you are gonna hopefully be doing, uh I know that the designers are gonna be working with Play-doh on that. Um and I'll be that'll be good. Is what they're gonna get up as soon as possible? Everybody kind of happy about that? That's kind of a design thing that you guys can discuss, yeah. To make the case? Okay. So off you go and design stuff. So um that's really good, like we've had s much to talk about that's pretty much pretty much run out of time to run it out of. So I'm going to have to call this to a close 'cause we're we're actually over time.\",\n",
       " \"Yeah quite jealous actually.\\\\n'S to do now is to decide how to fulfil what your stuff is, so in that sense so it does kind of make sense, yeah. The components are exactly the same. The most input that's needed is basically in the user interface. The rest of the components do have an impact in terms of cost and complexity. Power is basically a factor of that. And the lower components, the power, the logic, the transmitter, and the infrared, um they affect you in. terms of the size of your device, um and that would have some inte impact on how y I think more how you hold rather than the actual use using the the remote control. And then there's um how the case actually looks. It can actually be flat or it can be curved, and then the different types of materials that you can use, um I don't think you can used them in a combination, um but I could check back for you, but I'm not very sure about the titanium. I think you could probably group plastic and rubber together, wood and titanium, but you know it might be easier from a cost perspective and a complexity just to use one. You know as opposed to two. Um and the other components are logic chips, um again I'll go back to the component chips.\",\n",
       " \"The remote control can be used as a watch, a stress ball, a light, a speaker or even a game console. It can't be curved on the plastic or the wood, and it can't have solar panels in the rubber case. The user interface restrictions basically means that if you use more complicated features, like the buttons are standard okay, the L_C_D_ panel and the scroll wheel you need more complicated logic. It's a bit nuts to get the Monday Tuesday Wednesday you know. I'm thinking fruits in my head, but that's tacky. Do we need a display? What what's the functionality of that? Yeah but the question is what are we using it what would we achieve from it? Putting in lights is cheap but putting in an L_L_C-D- panel just to make it glow is a bit of a Mm-hmm. I think that will be a problem because we don't have an input device toget the listings into it, so um it's a lot of work to make that work. I don't think that personal preferences but role preferences, I think um something comfortable to hold, um small and slim in terms of comfortable not so small you can't, you know like a phone or something, too small phone.\",\n",
       " \"The case is transparent so it gives it a little bit of a glow, doesn't make it freaky. Or or there might be a light running through it like a mouse. You know you have cordless mice and they don't eat that much power right. The question is when you're rolling it, how do you wanna roll it? Do you want 'em to roll it like that? 'Cause in a mouse your hand's in a position toRoll it, whereas the other thing about having it jog dial this way, it tends to get moved accidentally. That's a very unnatural motion to yeah. Can you imagine you have to scroll a lot. Um it might work for volume, and maybe some of the brightness controls and stuff like that, but not for\"]"
      ]
     },
     "execution_count": 46,
     "metadata": {},
     "output_type": "execute_result"
    }
   ],
   "source": [
    "chunks"
   ]
  },
  {
   "cell_type": "code",
   "execution_count": 63,
   "metadata": {},
   "outputs": [],
   "source": [
    "from gtts import gTTS"
   ]
  },
  {
   "cell_type": "code",
   "execution_count": 66,
   "metadata": {},
   "outputs": [],
   "source": [
    "tts = gTTS(sci_out[0], lang=\"en\")\n",
    "tts.save('audio_files/sci.mp3')\n"
   ]
  }
 ],
 "metadata": {
  "kernelspec": {
   "display_name": "venv",
   "language": "python",
   "name": "python3"
  },
  "language_info": {
   "codemirror_mode": {
    "name": "ipython",
    "version": 3
   },
   "file_extension": ".py",
   "mimetype": "text/x-python",
   "name": "python",
   "nbconvert_exporter": "python",
   "pygments_lexer": "ipython3",
   "version": "3.11.3"
  },
  "orig_nbformat": 4
 },
 "nbformat": 4,
 "nbformat_minor": 2
}
