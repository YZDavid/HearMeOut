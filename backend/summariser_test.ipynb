{
 "cells": [
  {
   "cell_type": "code",
   "execution_count": 2,
   "metadata": {},
   "outputs": [],
   "source": [
    "from transformers import pipeline\n",
    "from newspaper import Article\n",
    "import pyttsx3"
   ]
  },
  {
   "cell_type": "code",
   "execution_count": 7,
   "metadata": {},
   "outputs": [],
   "source": [
    "from newspaper import Config\n",
    "user_agent = 'Mozilla/5.0 (Windows NT 10.0; Win64; x64) AppleWebKit/537.36 (KHTML, like Gecko) Chrome/113.0.0.0 Safari/537.36'\n",
    "config = Config()\n",
    "config.browser_user_agent = user_agent"
   ]
  },
  {
   "cell_type": "code",
   "execution_count": 11,
   "metadata": {},
   "outputs": [],
   "source": [
    "url = 'https://www.straitstimes.com/singapore/tan-cheng-bock-ready-to-fight-in-next-ge-psp-keen-to-form-opposition-alliance'\n",
    "article = Article(url, config=config)\n",
    "article.download()\n",
    "article.parse()"
   ]
  },
  {
   "attachments": {},
   "cell_type": "markdown",
   "metadata": {},
   "source": [
    "### Before summarising - raw text"
   ]
  },
  {
   "cell_type": "code",
   "execution_count": 12,
   "metadata": {},
   "outputs": [
    {
     "name": "stdout",
     "output_type": "stream",
     "text": [
      "SINGAPORE – The founder and chairman of the opposition Progress Singapore Party (PSP), Dr Tan Cheng Bock, said at a press conference on Saturday that he is ready to run in the next general election.\n",
      "\n",
      "“I always say, as long as I am relevant, I’ll be there. I never run away from a fight, and 2025 is a very challenging (fight). I am so far still very, very prepared for 2025,” said the 83-year-old, referring to the next general election (GE) due to be held by November 2025.\n",
      "\n",
      "He has rarely appeared in public since he stepped down as PSP chief in 2021.\n",
      "\n",
      "In 2020, Dr Tan contested in West Coast GRC and lost to the ruling People’s Action Party (PAP) team there with 48.32 per cent of the vote.\n",
      "\n",
      "Saturday’s press conference, which set out PSP’s directions for the next GE, came after the PSP voted in its new central executive committee (CEC) in March.\n",
      "\n",
      "Non-Constituency Member of Parliament (NCMP) Leong Mun Wai, 64, was subsequently named the party’s new secretary-general, taking over from Mr Francis Yuen.\n",
      "\n",
      "Mr Leong, who co-chaired the press conference on Saturday together with Dr Tan and fellow NCMP and PSP vice-chairman Hazel Poa, said the party will “proactively facilitate” the forming of an alliance among the opposition parties, which will help align their election messaging, although no concrete plans have been made.\n",
      "\n",
      "“As our democracy matures, there’ll be more and more room for diversity of views and opinions. As a result, there’ll be a lot more room for us and (for) more parties,” he said, adding that the PSP will be keen to facilitate closer cooperation among opposition parties.\n",
      "\n",
      "When asked if the alliance it envisages will include the Workers’ Party (WP), Dr Tan said: “We also must remember that the WP is so much older than us, more than 60 years. We (the PSP) only have four years.\n",
      "\n",
      "“I think we have to respect the WP.”\n",
      "\n",
      "During the 2020 general election, PSP contested in nine constituencies for 24 seats, but failed to win any.\n",
      "\n",
      "These included four group representation constituencies – West Coast, Nee Soon, Tanjong Pagar and Chua Chu Kang – and five single-member constituencies – Marymount, Hong Kah North, Yio Chu Kang, Kebun Baru and Pioneer.\n",
      "\n",
      "Mr Leong would not confirm how many seats, or in which constituencies, PSP plans to run in the next GE.\n",
      "\n",
      "But it will “most probably” contest in the same constituencies, and could also field a similar number of candidates, he said.\n",
      "\n",
      "He added that much depends on when the election is called, how the boundaries are drawn up, and how many volunteers the party can recruit to support its candidates.\n",
      "\n",
      "Outlining the PSP’s directions for the next GE, Ms Poa said the party will campaign on bread-and-butter issues such as jobs for Singaporeans and housing affordability, as well “progress with compassion”.\n",
      "\n",
      "This includes more “progressive” issues such as freedom of information and diversity, and also social safety nets, she added.\n"
     ]
    }
   ],
   "source": [
    "print(article.text)"
   ]
  },
  {
   "cell_type": "code",
   "execution_count": null,
   "metadata": {},
   "outputs": [],
   "source": [
    "print"
   ]
  },
  {
   "attachments": {},
   "cell_type": "markdown",
   "metadata": {},
   "source": [
    "### After summarising - using HuggingFace Transformers Library"
   ]
  },
  {
   "cell_type": "code",
   "execution_count": 5,
   "metadata": {},
   "outputs": [],
   "source": [
    "summarizer = pipeline('summarization', model=\"sshleifer/distilbart-cnn-12-6\")"
   ]
  },
  {
   "cell_type": "code",
   "execution_count": 10,
   "metadata": {},
   "outputs": [
    {
     "name": "stdout",
     "output_type": "stream",
     "text": [
      " Deputy Foreign Minister Alexander Grushko was responding to a question on Saturday about the implications of providing the jets . Ukraine has not yet won commitments to deliver the planes, but US President Joe Biden told G7 leaders on Friday that Washington supports joint allied training programmes for Ukrainian pilots on F-16s . Ukraine's President Volodymyr Zelenskyy has for months called for the supply of advanced fighter jets to support Ukraine's defences against Russia’s invasion . But the Ukrainian leader had faced rejection until now from Western allies who feared providing Ukraine with advanced offensive weapons could be met with an escalation by Russian President Vladimir Putin .\n"
     ]
    }
   ],
   "source": [
    "news = summarizer(article.text, max_length=250, min_length=100, do_sample=False)[0]['summary_text']\n",
    "print(news)"
   ]
  },
  {
   "cell_type": "code",
   "execution_count": 7,
   "metadata": {},
   "outputs": [],
   "source": [
    "raw_text = '''\n",
    "Motivated by the success of T5 (Text-To-Text Transfer Transformer) in pre-trained natural language processing models, we propose a unified-modal SpeechT5 framework that explores the encoder-decoder pre-training for self-supervised speech/text representation learning. The SpeechT5 framework consists of a shared encoder-decoder network and six modal-specific (speech/text) pre/post-nets. After preprocessing the input speech/text through the pre-nets, the shared encoder-decoder network models the sequence-to-sequence transformation, and then the post-nets generate the output in the speech/text modality based on the output of the decoder.\n",
    "\n",
    "Leveraging large-scale unlabeled speech and text data, we pre-train SpeechT5 to learn a unified-modal representation, hoping to improve the modeling capability for both speech and text. To align the textual and speech information into this unified semantic space, we propose a cross-modal vector quantization approach that randomly mixes up speech/text states with latent units as the interface between encoder and decoder.\n",
    "\n",
    "Extensive evaluations show the superiority of the proposed SpeechT5 framework on a wide variety of spoken language processing tasks, including automatic speech recognition, speech synthesis, speech translation, voice conversion, speech enhancement, and speaker identification.\n",
    "'''"
   ]
  },
  {
   "cell_type": "code",
   "execution_count": 11,
   "metadata": {},
   "outputs": [
    {
     "name": "stdout",
     "output_type": "stream",
     "text": [
      " The SpeechT5 framework consists of a shared encoder-decoder network and six modal-specific (speech/text) pre/post-nets . After preprocessing the input speech/text through the pre-netions, the shared . encoder . decoder network models the sequence-to-sequence transformation, and then the post-nets generate the output . based on the output of the decoder. network . To align the textual and speech information into this . unified semantic space, we propose a cross-modal vector quantization approach that randomly mixes up speech . states with latent units as the interface between encoder and decoder\n"
     ]
    }
   ],
   "source": [
    "text = summarizer(raw_text, max_length=250, min_length=100, do_sample=False)[0]['summary_text']\n",
    "print(text)"
   ]
  },
  {
   "cell_type": "code",
   "execution_count": 16,
   "metadata": {},
   "outputs": [],
   "source": [
    "engine = pyttsx3.init()\n",
    "\n",
    "engine.save_to_file(news, 'test.mp3')\n",
    "engine.runAndWait()"
   ]
  },
  {
   "cell_type": "code",
   "execution_count": 15,
   "metadata": {},
   "outputs": [
    {
     "data": {
      "text/plain": [
       "'c:\\\\Users\\\\user\\\\Documents\\\\GitHub\\\\HearMeOut\\\\backend'"
      ]
     },
     "execution_count": 15,
     "metadata": {},
     "output_type": "execute_result"
    }
   ],
   "source": [
    "import os\n",
    "os.getcwd()"
   ]
  },
  {
   "cell_type": "code",
   "execution_count": null,
   "metadata": {},
   "outputs": [],
   "source": []
  }
 ],
 "metadata": {
  "kernelspec": {
   "display_name": "base",
   "language": "python",
   "name": "python3"
  },
  "language_info": {
   "codemirror_mode": {
    "name": "ipython",
    "version": 3
   },
   "file_extension": ".py",
   "mimetype": "text/x-python",
   "name": "python",
   "nbconvert_exporter": "python",
   "pygments_lexer": "ipython3",
   "version": "3.10.6"
  },
  "orig_nbformat": 4
 },
 "nbformat": 4,
 "nbformat_minor": 2
}
