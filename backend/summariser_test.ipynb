{
 "cells": [
  {
   "cell_type": "code",
   "execution_count": 1,
   "metadata": {},
   "outputs": [
    {
     "name": "stderr",
     "output_type": "stream",
     "text": [
      "c:\\Users\\user\\AppData\\Local\\Programs\\Python\\Python310\\lib\\site-packages\\tqdm\\auto.py:21: TqdmWarning: IProgress not found. Please update jupyter and ipywidgets. See https://ipywidgets.readthedocs.io/en/stable/user_install.html\n",
      "  from .autonotebook import tqdm as notebook_tqdm\n"
     ]
    }
   ],
   "source": [
    "from transformers import pipeline\n",
    "from newspaper import Article"
   ]
  },
  {
   "cell_type": "code",
   "execution_count": 7,
   "metadata": {},
   "outputs": [],
   "source": [
    "url = 'https://www.aljazeera.com/news/2023/5/20/russia-giving-f-16-fighter-jets-to-ukraine-a-colossal-risk'\n",
    "article = Article(url)\n",
    "article.download()\n",
    "article.parse()"
   ]
  },
  {
   "attachments": {},
   "cell_type": "markdown",
   "metadata": {},
   "source": [
    "### Before summarising - raw text"
   ]
  },
  {
   "cell_type": "code",
   "execution_count": 8,
   "metadata": {},
   "outputs": [
    {
     "name": "stdout",
     "output_type": "stream",
     "text": [
      "Western countries ‘are still adhering to the escalation scenario’ that risks widening the Ukraine war in Europe, says deputy foreign minister.\n",
      "\n",
      "Western countries will be running “colossal risks” if they supply Ukraine with F-16 fighter jets, a Russian official says.\n",
      "\n",
      "Russian Deputy Foreign Minister Alexander Grushko was responding to a question on Saturday about the implications of providing the jets, which Ukraine has been requesting from NATO countries, the TASS news agency reported.\n",
      "\n",
      "Ukraine has not yet won commitments to deliver the planes, but US President Joe Biden told G7 leaders on Friday that Washington supports joint allied training programmes for Ukrainian pilots on F-16s, senior United States officials said.\n",
      "\n",
      "“We see that Western countries are still adhering to the escalation scenario. It involves colossal risks for themselves,” Grushko was quoted as saying.\n",
      "\n",
      "“In any case, this will be taken into account in all our plans, and we have all the necessary means to achieve the goals we have set.”\n",
      "\n",
      "Alexandre Vautravers, editor-in-chief of the Swiss Military Review, said despite Russia’s warning Moscow was unlikely to escalate the situation.\n",
      "\n",
      "“Every time a new weapon system has been given to Ukraine, we have heard a lot of rhetoric – but very little in the way of action from Russia,” he told Al Jazeera from Geneva. “I think the rhetoric today is not a sufficient deterrence.”\n",
      "\n",
      "Vautravers added Kyiv is also facing important technical issues that needed to be addressed for the F-16 fighters.\n",
      "\n",
      "“It is rapidly running out of air defence missiles, and it is necessary to plug in the holes of Ukraine’s air defence with these aircraft,” he said.\n",
      "\n",
      "‘Necessary to improve’\n",
      "\n",
      "Ukraine’s President Volodymyr Zelenskyy has for months called for the supply of advanced fighter jets to support Ukraine’s defences against Russia’s invasion.\n",
      "\n",
      "But the Ukrainian leader had faced rejection until now from his Western allies who feared providing Ukraine with advanced offensive weapons could be met with an escalation by Russian President Vladimir Putin and the spread of the war in Europe.\n",
      "\n",
      "Zelenskyy on Saturday thanked British Prime Minister Rishi Sunak at the G7 summit in Japan for his\n",
      "\n",
      "support in forming a coalition to deliver Western fighter jets.\n",
      "\n",
      "“It is necessary to improve [Ukraine’s] air defence capabilities, including the training of our pilots,” Zelenskyy wrote on his official Telegram channel.\n",
      "\n",
      "The green light on F-16 training is the latest shift by the Biden administration as it moves to arm Ukraine with more advanced and lethal weaponry, following earlier decisions to send rocket launcher systems and Abrams tanks. The United States has insisted it is sending weapons to Ukraine to defend itself and has discouraged attacks by Ukraine into Russian territory.\n",
      "\n",
      "Biden’s decisions on when, how many, and who will provide the fourth-generation F-16 fighter jets will be made in the months ahead while pilot training is under way, he said.\n"
     ]
    }
   ],
   "source": [
    "print(article.text)"
   ]
  },
  {
   "attachments": {},
   "cell_type": "markdown",
   "metadata": {},
   "source": [
    "### After summarising - using HuggingFace Transformers Library"
   ]
  },
  {
   "cell_type": "code",
   "execution_count": 4,
   "metadata": {},
   "outputs": [
    {
     "name": "stderr",
     "output_type": "stream",
     "text": [
      "Downloading pytorch_model.bin: 100%|██████████| 1.22G/1.22G [00:10<00:00, 117MB/s]\n",
      "c:\\Users\\user\\AppData\\Local\\Programs\\Python\\Python310\\lib\\site-packages\\huggingface_hub\\file_download.py:133: UserWarning: `huggingface_hub` cache-system uses symlinks by default to efficiently store duplicated files but your machine does not support them in C:\\Users\\user\\.cache\\huggingface\\hub. Caching files will still work but in a degraded version that might require more space on your disk. This warning can be disabled by setting the `HF_HUB_DISABLE_SYMLINKS_WARNING` environment variable. For more details, see https://huggingface.co/docs/huggingface_hub/how-to-cache#limitations.\n",
      "To support symlinks on Windows, you either need to activate Developer Mode or to run Python as an administrator. In order to see activate developer mode, see this article: https://docs.microsoft.com/en-us/windows/apps/get-started/enable-your-device-for-development\n",
      "  warnings.warn(message)\n",
      "Downloading (…)okenizer_config.json: 100%|██████████| 26.0/26.0 [00:00<00:00, 26.0kB/s]\n",
      "Downloading (…)olve/main/vocab.json: 100%|██████████| 899k/899k [00:00<00:00, 1.06MB/s]\n",
      "Downloading (…)olve/main/merges.txt: 100%|██████████| 456k/456k [00:00<00:00, 720kB/s]\n"
     ]
    }
   ],
   "source": [
    "summarizer = pipeline('summarization', model=\"sshleifer/distilbart-cnn-12-6\")"
   ]
  },
  {
   "cell_type": "code",
   "execution_count": 10,
   "metadata": {},
   "outputs": [
    {
     "name": "stdout",
     "output_type": "stream",
     "text": [
      " Deputy Foreign Minister Alexander Grushko was responding to a question on Saturday about the implications of providing the jets . Ukraine has not yet won commitments to deliver the planes, but US President Joe Biden told G7 leaders on Friday that Washington supports joint allied training programmes for Ukrainian pilots on F-16s . Ukraine's President Volodymyr Zelenskyy has for months called for the supply of advanced fighter jets to support Ukraine's defences against Russia’s invasion . But the Ukrainian leader had faced rejection until now from Western allies who feared providing Ukraine with advanced offensive weapons could be met with an escalation by Russian President Vladimir Putin .\n"
     ]
    }
   ],
   "source": [
    "print(summarizer(article.text, max_length=250, min_length=100, do_sample=False)[0]['summary_text'])"
   ]
  },
  {
   "cell_type": "code",
   "execution_count": 15,
   "metadata": {},
   "outputs": [],
   "source": [
    "raw_text = '''\n",
    "Motivated by the success of T5 (Text-To-Text Transfer Transformer) in pre-trained natural language processing models, we propose a unified-modal SpeechT5 framework that explores the encoder-decoder pre-training for self-supervised speech/text representation learning. The SpeechT5 framework consists of a shared encoder-decoder network and six modal-specific (speech/text) pre/post-nets. After preprocessing the input speech/text through the pre-nets, the shared encoder-decoder network models the sequence-to-sequence transformation, and then the post-nets generate the output in the speech/text modality based on the output of the decoder.\n",
    "\n",
    "Leveraging large-scale unlabeled speech and text data, we pre-train SpeechT5 to learn a unified-modal representation, hoping to improve the modeling capability for both speech and text. To align the textual and speech information into this unified semantic space, we propose a cross-modal vector quantization approach that randomly mixes up speech/text states with latent units as the interface between encoder and decoder.\n",
    "\n",
    "Extensive evaluations show the superiority of the proposed SpeechT5 framework on a wide variety of spoken language processing tasks, including automatic speech recognition, speech synthesis, speech translation, voice conversion, speech enhancement, and speaker identification.\n",
    "'''"
   ]
  },
  {
   "cell_type": "code",
   "execution_count": 17,
   "metadata": {},
   "outputs": [
    {
     "name": "stdout",
     "output_type": "stream",
     "text": [
      " The SpeechT5 framework consists of a shared encoder-decoder network and six modal-specific (speech/text) pre/post-nets . After preprocessing the input speech/text through the pre-netions, the shared . encoder . decoder network models the sequence-to-sequence transformation, and then the post-nets generate the output . based on the output of the decoder. network . To align the textual and speech information into this . unified semantic space, we propose a cross-modal vector quantization approach that randomly mixes up speech . states with latent units as the interface between encoder and decoder\n"
     ]
    }
   ],
   "source": [
    "print(summarizer(raw_text, max_length=250, min_length=100, do_sample=False)[0]['summary_text'])"
   ]
  },
  {
   "cell_type": "code",
   "execution_count": null,
   "metadata": {},
   "outputs": [],
   "source": []
  }
 ],
 "metadata": {
  "kernelspec": {
   "display_name": "base",
   "language": "python",
   "name": "python3"
  },
  "language_info": {
   "codemirror_mode": {
    "name": "ipython",
    "version": 3
   },
   "file_extension": ".py",
   "mimetype": "text/x-python",
   "name": "python",
   "nbconvert_exporter": "python",
   "pygments_lexer": "ipython3",
   "version": "3.10.6"
  },
  "orig_nbformat": 4
 },
 "nbformat": 4,
 "nbformat_minor": 2
}
