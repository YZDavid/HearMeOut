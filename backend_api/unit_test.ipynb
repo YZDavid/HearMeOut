{
 "cells": [
  {
   "cell_type": "code",
   "execution_count": 3,
   "metadata": {},
   "outputs": [],
   "source": [
    "import requests\n",
    "import random\n",
    "BASE = 'http://127.0.0.1:5000'"
   ]
  },
  {
   "cell_type": "code",
   "execution_count": 16,
   "metadata": {},
   "outputs": [
    {
     "data": {
      "text/plain": [
       "{}"
      ]
     },
     "execution_count": 16,
     "metadata": {},
     "output_type": "execute_result"
    }
   ],
   "source": [
    "get_response = requests.get(BASE + '/conversions')\n",
    "get_response.json()"
   ]
  },
  {
   "attachments": {},
   "cell_type": "markdown",
   "metadata": {},
   "source": [
    "## Create a bunch of posts\n",
    "Currently no type checking, just checking to see if POST method successfully updates the data (currently stored in memory on the server)"
   ]
  },
  {
   "cell_type": "code",
   "execution_count": 5,
   "metadata": {},
   "outputs": [],
   "source": [
    "INPUTS = [\n",
    "    'Lorem ipsum dolor sit amet. Sit numquam harum et quia repudiandae aut reiciendis doloremque ea optio molestias. Ut assumenda consequatur vel mollitia Quis ut eveniet magni sed voluptate assumenda At voluptates animi.',\n",
    "    'Ut autem dolor et temporibus ullam et voluptatem exercitationem sed tempore reiciendis. Eos repellat possimus in quia dolores et praesentium totam aut rerum velit. Qui magnam rerum non enim necessitatibus At eveniet rerum eum sunt sapiente est sint repellat ad molestias corrupti sit laboriosam voluptatem!',\n",
    "    'Aut placeat tempora et quae cupiditate hic accusamus consequatur. Et internos corrupti 33 rerum quae nam repudiandae rerum et eligendi beatae sit deleniti dolor et impedit laudantium.',\n",
    "    'Ad dolore rerum ea inventore impedit aut deserunt porro hic molestias tempora aut praesentium sint eum assumenda officiis! In quasi fugit cum accusamus fuga non quia dolores.',\n",
    "    'Rem internos laborum id ducimus deleniti id voluptas dolor ut necessitatibus assumenda qui sint ipsa ea veritatis consequatur! Ex voluptate mollitia et commodi iusto est alias eius qui rerum ipsa! Quo saepe consequuntur hic pariatur perferendis et omnis provident eos doloremque obcaecati et soluta modi. Ea quae quas sit nisi ipsum eum similique commodi?'\n",
    "]"
   ]
  },
  {
   "cell_type": "code",
   "execution_count": 6,
   "metadata": {},
   "outputs": [
    {
     "name": "stdout",
     "output_type": "stream",
     "text": [
      "201\n",
      "{'id': 3, 'input': 'Lorem ipsum dolor sit amet. Sit numquam harum et quia repudiandae aut reiciendis doloremque ea optio molestias. Ut assumenda consequatur vel mollitia Quis ut eveniet magni sed voluptate assumenda At voluptates animi.', 'output': 'Lorem ipsum dolor si'}\n",
      "201\n",
      "{'id': 4, 'input': 'Ut autem dolor et temporibus ullam et voluptatem exercitationem sed tempore reiciendis. Eos repellat possimus in quia dolores et praesentium totam aut rerum velit. Qui magnam rerum non enim necessitatibus At eveniet rerum eum sunt sapiente est sint repellat ad molestias corrupti sit laboriosam voluptatem!', 'output': 'Ut autem dolor et te'}\n",
      "201\n",
      "{'id': 5, 'input': 'Aut placeat tempora et quae cupiditate hic accusamus consequatur. Et internos corrupti 33 rerum quae nam repudiandae rerum et eligendi beatae sit deleniti dolor et impedit laudantium.', 'output': 'Aut placeat tempora '}\n",
      "201\n",
      "{'id': 6, 'input': 'Ad dolore rerum ea inventore impedit aut deserunt porro hic molestias tempora aut praesentium sint eum assumenda officiis! In quasi fugit cum accusamus fuga non quia dolores.', 'output': 'Ad dolore rerum ea i'}\n",
      "201\n",
      "{'id': 7, 'input': 'Rem internos laborum id ducimus deleniti id voluptas dolor ut necessitatibus assumenda qui sint ipsa ea veritatis consequatur! Ex voluptate mollitia et commodi iusto est alias eius qui rerum ipsa! Quo saepe consequuntur hic pariatur perferendis et omnis provident eos doloremque obcaecati et soluta modi. Ea quae quas sit nisi ipsum eum similique commodi?', 'output': 'Rem internos laborum'}\n"
     ]
    }
   ],
   "source": [
    "for i in range(len(INPUTS)):\n",
    "    post_response = requests.post(BASE + '/conversions', data={'input': INPUTS[i]})\n",
    "    print(post_response.status_code)\n",
    "    try:\n",
    "        print(post_response.json())\n",
    "    except:\n",
    "        pass"
   ]
  },
  {
   "cell_type": "code",
   "execution_count": 7,
   "metadata": {},
   "outputs": [
    {
     "data": {
      "text/plain": [
       "[{'id': 0,\n",
       "  'input': 'Lorem ipsum dolor sit amet, consectetur adipiscing elit, sed do eiusmod tempor incididunt ut labore et dolore magna aliqua. Ut enim ad minim veniam, quis nostrud exercitation ullamco laboris nisi ut aliquip ex ea commodo consequat. Duis aute irure dolor in reprehenderit in voluptate velit esse cillum dolore eu fugiat nulla pariatur. Excepteur sint occaecat cupidatat non proident, sunt in culpa qui officia deserunt mollit anim id est laborum.',\n",
       "  'output': 'Lorem ipsum dolor sit amet, deserunt mollit anim id est laborum.'},\n",
       " {'id': 1,\n",
       "  'input': 'Sed ut perspiciatis unde omnis iste natus error sit voluptatem accusantium doloremque laudantium, totam rem aperiam, eaque ipsa quae ab illo inventore veritatis et quasi architecto beatae vitae dicta sunt explicabo. Nemo enim ipsam voluptatem quia voluptas sit aspernatur aut odit aut fugit, sed quia consequuntur magni dolores eos qui ratione voluptatem sequi nesciunt. Neque porro quisquam est, qui dolorem ipsum quia dolor sit amet, consectetur, adipisci velit, sed quia non numquam eius modi tempora incidunt ut labore et dolore magnam aliquam quaerat voluptatem. Ut enim ad minima veniam, quis nostrum exercitationem ullam corporis suscipit laboriosam, nisi ut aliquid ex ea commodi consequatur? Quis autem vel eum iure reprehenderit qui in ea voluptate velit esse quam nihil molestiae consequatur, vel illum qui dolorem eum fugiat quo voluptas nulla pariatur?',\n",
       "  'output': 'Sed ut perspiciatis unde omnis iste natus error sit voluptatem accusantium fugiat quo voluptas nulla pariatur?'},\n",
       " {'id': 2,\n",
       "  'input': 'At vero eos et accusamus et iusto odio dignissimos ducimus qui blanditiis praesentium voluptatum deleniti atque corrupti quos dolores et quas molestias excepturi sint occaecati cupiditate non provident, similique sunt in culpa qui officia deserunt mollitia animi, id est laborum et dolorum fuga. Et harum quidem rerum facilis est et expedita distinctio. Nam libero tempore, cum soluta nobis est eligendi optio cumque nihil impedit quo minus id quod maxime placeat facere possimus, omnis voluptas assumenda est, omnis dolor repellendus. Temporibus autem quibusdam et aut officiis debitis aut rerum necessitatibus saepe eveniet ut et voluptates repudiandae sint et molestiae non recusandae. Itaque earum rerum hic tenetur a sapiente delectus, ut aut reiciendis voluptatibus maiores alias consequatur aut perferendis doloribus asperiores repellat.',\n",
       "  'output': 'At vero eos et accusamus et iusto aut perferendis doloribus asperiores repellat.'},\n",
       " {'id': 3,\n",
       "  'input': 'Lorem ipsum dolor sit amet. Sit numquam harum et quia repudiandae aut reiciendis doloremque ea optio molestias. Ut assumenda consequatur vel mollitia Quis ut eveniet magni sed voluptate assumenda At voluptates animi.',\n",
       "  'output': 'Lorem ipsum dolor si'},\n",
       " {'id': 4,\n",
       "  'input': 'Ut autem dolor et temporibus ullam et voluptatem exercitationem sed tempore reiciendis. Eos repellat possimus in quia dolores et praesentium totam aut rerum velit. Qui magnam rerum non enim necessitatibus At eveniet rerum eum sunt sapiente est sint repellat ad molestias corrupti sit laboriosam voluptatem!',\n",
       "  'output': 'Ut autem dolor et te'},\n",
       " {'id': 5,\n",
       "  'input': 'Aut placeat tempora et quae cupiditate hic accusamus consequatur. Et internos corrupti 33 rerum quae nam repudiandae rerum et eligendi beatae sit deleniti dolor et impedit laudantium.',\n",
       "  'output': 'Aut placeat tempora '},\n",
       " {'id': 6,\n",
       "  'input': 'Ad dolore rerum ea inventore impedit aut deserunt porro hic molestias tempora aut praesentium sint eum assumenda officiis! In quasi fugit cum accusamus fuga non quia dolores.',\n",
       "  'output': 'Ad dolore rerum ea i'},\n",
       " {'id': 7,\n",
       "  'input': 'Rem internos laborum id ducimus deleniti id voluptas dolor ut necessitatibus assumenda qui sint ipsa ea veritatis consequatur! Ex voluptate mollitia et commodi iusto est alias eius qui rerum ipsa! Quo saepe consequuntur hic pariatur perferendis et omnis provident eos doloremque obcaecati et soluta modi. Ea quae quas sit nisi ipsum eum similique commodi?',\n",
       "  'output': 'Rem internos laborum'}]"
      ]
     },
     "execution_count": 7,
     "metadata": {},
     "output_type": "execute_result"
    }
   ],
   "source": [
    "get_response = requests.get(BASE + '/conversions')\n",
    "get_response.json()"
   ]
  },
  {
   "attachments": {},
   "cell_type": "markdown",
   "metadata": {},
   "source": [
    "## Testing out accessing conversion by ID"
   ]
  },
  {
   "cell_type": "code",
   "execution_count": 8,
   "metadata": {},
   "outputs": [
    {
     "data": {
      "text/plain": [
       "8"
      ]
     },
     "execution_count": 8,
     "metadata": {},
     "output_type": "execute_result"
    }
   ],
   "source": [
    "length = len(get_response.json())\n",
    "length"
   ]
  },
  {
   "cell_type": "code",
   "execution_count": 14,
   "metadata": {},
   "outputs": [
    {
     "name": "stdout",
     "output_type": "stream",
     "text": [
      "200\n",
      "{'id': 5, 'input': 'Aut placeat tempora et quae cupiditate hic accusamus consequatur. Et internos corrupti 33 rerum quae nam repudiandae rerum et eligendi beatae sit deleniti dolor et impedit laudantium.', 'output': 'Aut placeat tempora '}\n",
      "200\n",
      "{'id': 3, 'input': 'Lorem ipsum dolor sit amet. Sit numquam harum et quia repudiandae aut reiciendis doloremque ea optio molestias. Ut assumenda consequatur vel mollitia Quis ut eveniet magni sed voluptate assumenda At voluptates animi.', 'output': 'Lorem ipsum dolor si'}\n",
      "200\n",
      "{'id': 2, 'input': 'At vero eos et accusamus et iusto odio dignissimos ducimus qui blanditiis praesentium voluptatum deleniti atque corrupti quos dolores et quas molestias excepturi sint occaecati cupiditate non provident, similique sunt in culpa qui officia deserunt mollitia animi, id est laborum et dolorum fuga. Et harum quidem rerum facilis est et expedita distinctio. Nam libero tempore, cum soluta nobis est eligendi optio cumque nihil impedit quo minus id quod maxime placeat facere possimus, omnis voluptas assumenda est, omnis dolor repellendus. Temporibus autem quibusdam et aut officiis debitis aut rerum necessitatibus saepe eveniet ut et voluptates repudiandae sint et molestiae non recusandae. Itaque earum rerum hic tenetur a sapiente delectus, ut aut reiciendis voluptatibus maiores alias consequatur aut perferendis doloribus asperiores repellat.', 'output': 'At vero eos et accusamus et iusto aut perferendis doloribus asperiores repellat.'}\n"
     ]
    }
   ],
   "source": [
    "for i in range(3):\n",
    "    rand = random.randrange(length)\n",
    "    get_by_id = requests.get(BASE + '/conversions/' + str(rand))\n",
    "    print(get_by_id.status_code)\n",
    "    try:\n",
    "        print(get_by_id.json())\n",
    "    except:\n",
    "        pass\n"
   ]
  },
  {
   "attachments": {},
   "cell_type": "markdown",
   "metadata": {},
   "source": [
    "## Delete all by looping through each ID"
   ]
  },
  {
   "cell_type": "code",
   "execution_count": 15,
   "metadata": {},
   "outputs": [
    {
     "name": "stdout",
     "output_type": "stream",
     "text": [
      "204\n",
      "204\n",
      "204\n",
      "204\n",
      "204\n",
      "204\n",
      "204\n",
      "204\n"
     ]
    }
   ],
   "source": [
    "for i in range(length):\n",
    "    delete_response = requests.delete(BASE + '/conversions/' + str(i))\n",
    "    print(delete_response.status_code)\n",
    "    try:\n",
    "        print(delete_response.json())\n",
    "    except:\n",
    "        pass"
   ]
  }
 ],
 "metadata": {
  "kernelspec": {
   "display_name": "venv",
   "language": "python",
   "name": "python3"
  },
  "language_info": {
   "codemirror_mode": {
    "name": "ipython",
    "version": 3
   },
   "file_extension": ".py",
   "mimetype": "text/x-python",
   "name": "python",
   "nbconvert_exporter": "python",
   "pygments_lexer": "ipython3",
   "version": "3.11.3"
  },
  "orig_nbformat": 4
 },
 "nbformat": 4,
 "nbformat_minor": 2
}
