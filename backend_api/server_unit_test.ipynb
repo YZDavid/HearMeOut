{
 "cells": [
  {
   "cell_type": "code",
   "execution_count": 1,
   "metadata": {},
   "outputs": [],
   "source": [
    "import requests\n",
    "import random\n",
    "import json\n",
    "BASE = 'http://127.0.0.1:5000'"
   ]
  },
  {
   "cell_type": "code",
   "execution_count": 2,
   "metadata": {},
   "outputs": [
    {
     "data": {
      "text/plain": [
       "[{'id': 1,\n",
       "  'input': 'Lorem ipsum dolor sit amet, consectetur adipiscing elit, sed do eiusmod tempor incididunt ut labore et dolore magna aliqua. Ut enim ad minim veniam, quis nostrud exercitation ullamco laboris nisi ut aliquip ex ea commodo consequat. Duis aute irure dolor in reprehenderit in voluptate velit esse cillum dolore eu fugiat nulla pariatur. Excepteur sint occaecat cupidatat non proident, sunt in culpa qui officia deserunt mollit anim id est laborum.',\n",
       "  'output': 'Lorem ipsum dolor sit amet, deserunt mollit anim id est laborum.'},\n",
       " {'id': 2,\n",
       "  'input': 'Sed ut perspiciatis unde omnis iste natus error sit voluptatem accusantium doloremque laudantium, totam rem aperiam, eaque ipsa quae ab illo inventore veritatis et quasi architecto beatae vitae dicta sunt explicabo. Nemo enim ipsam voluptatem quia voluptas sit aspernatur aut odit aut fugit, sed quia consequuntur magni dolores eos qui ratione voluptatem sequi nesciunt. Neque porro quisquam est, qui dolorem ipsum quia dolor sit amet, consectetur, adipisci velit, sed quia non numquam eius modi tempora incidunt ut labore et dolore magnam aliquam quaerat voluptatem. Ut enim ad minima veniam, quis nostrum exercitationem ullam corporis suscipit laboriosam, nisi ut aliquid ex ea commodi consequatur? Quis autem vel eum iure reprehenderit qui in ea voluptate velit esse quam nihil molestiae consequatur, vel illum qui dolorem eum fugiat quo voluptas nulla pariatur?',\n",
       "  'output': 'Sed ut perspiciatis unde omnis iste natus error sit voluptatem accusantium fugiat quo voluptas nulla pariatur?'},\n",
       " {'id': 3,\n",
       "  'input': 'At vero eos et accusamus et iusto odio dignissimos ducimus qui blanditiis praesentium voluptatum deleniti atque corrupti quos dolores et quas molestias excepturi sint occaecati cupiditate non provident, similique sunt in culpa qui officia deserunt mollitia animi, id est laborum et dolorum fuga. Et harum quidem rerum facilis est et expedita distinctio. Nam libero tempore, cum soluta nobis est eligendi optio cumque nihil impedit quo minus id quod maxime placeat facere possimus, omnis voluptas assumenda est, omnis dolor repellendus. Temporibus autem quibusdam et aut officiis debitis aut rerum necessitatibus saepe eveniet ut et voluptates repudiandae sint et molestiae non recusandae. Itaque earum rerum hic tenetur a sapiente delectus, ut aut reiciendis voluptatibus maiores alias consequatur aut perferendis doloribus asperiores repellat.',\n",
       "  'output': 'At vero eos et accus'},\n",
       " {'id': 4,\n",
       "  'input': 'Lets do some summary work shall we ',\n",
       "  'output': 'Lets do some summary'},\n",
       " {'id': 5, 'input': 'testinggggggggggg', 'output': 'testinggggggggggg'},\n",
       " {'id': 6,\n",
       "  'input': 'lets try and summarise some content ',\n",
       "  'output': 'lets try and summari'},\n",
       " {'id': 7,\n",
       "  'input': 'lets try and summarise some content ',\n",
       "  'output': 'lets try and summari'},\n",
       " {'id': 8,\n",
       "  'input': 'lets try and summarise some content ',\n",
       "  'output': 'lets try and summari'},\n",
       " {'id': 9,\n",
       "  'input': 'lets try and summarise some content ',\n",
       "  'output': 'lets try and summari'},\n",
       " {'id': 10,\n",
       "  'input': 'SINGAPORE: Parliament\\'s Committee of Privileges could censure Speaker of Parliament Tan Chuan-Jin for swearing in the House, although the incident falls in a grey area as he was speaking under his breath, analysts told CNA.\\n\\nMr Tan on Tuesday (Jul 11) apologised for using \"unparliamentary language\" during a parliament sitting in April this year.\\n\\nAccording to a Reddit thread, Mr Tan muttered \"f****** populist\" after he called for MP Vikram Nair (PAP-Sembawang) to speak, following a speech by MP Jamus Lim (WP-Sengkang).\\n\\nIn a Facebook post, Mr Tan said he had apologised to the Workers\\' Party MP and the apology was \"kindly accepted\".\\n\\nRelated:\\n\\n \\nSpeaker of Parliament Tan Chuan-Jin apologises for using \\'unparliamentary language\\'\\nPolitical observer Eugene Tan said that apart from personal accountability, the Speaker can be dealt with by Parliament’s Committee of Privileges (COP), which can censure him.\\n\\nThe Singapore Management University associate professor of law explained that the Leader of the House can refer a matter involving unparliamentary conduct or breach of parliamentary privilege to the committee. As the COP is chaired by the Speaker, if the matter involves the Speaker, then the Speaker will be suspended from serving on the committee.\\n\\nAn MP can also try to move for the Speaker to be referred to the COP, but this requires the MP to secure the requisite support from the House.\\n\\nBut while Mr Tan\\'s remarks were \"inappropriate\", they were not \"egregious\", the associate professor said. Two analysts felt that the matter may end with the Speaker\\'s apology.\\n\\n\"As the matter is probably treated as closed by both MP Jamus Lim and the Speaker, it is unlikely that there is life in the matter,\" said Assoc Prof Tan.\\n\\n\"It may well be that the Speaker may regard it as appropriate for him to apologise to the House when parliament next sits again.\"\\n\\nMs Nydia Ngiow, managing director for Bower Group Asia Singapore, also thinks there may not be a need to pursue the matter, given that Assoc Prof Lim has since accepted Mr Tan\\'s apology.\\n\\n\"I don’t think that there is a need to pursue the matter further when it appears that both parties have appeared to consider the matter closed,\" she said.\\n\\nShe pointed out that in 2021, when Minister for Foreign Affairs Vivian Balakrishnan was heard making pointed comments against Progress Singapore Party\\'s Leong Mun Wai, no further action taken after he apologised to the Non-Constituency MP.\\n\\nBack then, Dr Balakrishnan was caught on mic saying \"He\\'s illiterate\" and \"Seriously, how did he get into RI (Raffles Institution)?... Must have been a lousy school\".\\n',\n",
       "  'output': 'SINGAPORE: Parliamen'},\n",
       " {'id': 11,\n",
       "  'input': 'SINGAPORE: Parliament\\'s Committee of Privileges could censure Speaker of Parliament Tan Chuan-Jin for swearing in the House, although the incident falls in a grey area as he was speaking under his breath, analysts told CNA.\\n\\nMr Tan on Tuesday (Jul 11) apologised for using \"unparliamentary language\" during a parliament sitting in April this year.\\n\\nAccording to a Reddit thread, Mr Tan muttered \"f****** populist\" after he called for MP Vikram Nair (PAP-Sembawang) to speak, following a speech by MP Jamus Lim (WP-Sengkang).\\n\\nIn a Facebook post, Mr Tan said he had apologised to the Workers\\' Party MP and the apology was \"kindly accepted\".\\n\\nRelated:\\n\\n \\nSpeaker of Parliament Tan Chuan-Jin apologises for using \\'unparliamentary language\\'\\nPolitical observer Eugene Tan said that apart from personal accountability, the Speaker can be dealt with by Parliament’s Committee of Privileges (COP), which can censure him.\\n\\nThe Singapore Management University associate professor of law explained that the Leader of the House can refer a matter involving unparliamentary conduct or breach of parliamentary privilege to the committee. As the COP is chaired by the Speaker, if the matter involves the Speaker, then the Speaker will be suspended from serving on the committee.\\n\\nAn MP can also try to move for the Speaker to be referred to the COP, but this requires the MP to secure the requisite support from the House.\\n\\nBut while Mr Tan\\'s remarks were \"inappropriate\", they were not \"egregious\", the associate professor said. Two analysts felt that the matter may end with the Speaker\\'s apology.\\n\\n\"As the matter is probably treated as closed by both MP Jamus Lim and the Speaker, it is unlikely that there is life in the matter,\" said Assoc Prof Tan.\\n\\n\"It may well be that the Speaker may regard it as appropriate for him to apologise to the House when parliament next sits again.\"\\n\\nMs Nydia Ngiow, managing director for Bower Group Asia Singapore, also thinks there may not be a need to pursue the matter, given that Assoc Prof Lim has since accepted Mr Tan\\'s apology.\\n\\n\"I don’t think that there is a need to pursue the matter further when it appears that both parties have appeared to consider the matter closed,\" she said.\\n\\nShe pointed out that in 2021, when Minister for Foreign Affairs Vivian Balakrishnan was heard making pointed comments against Progress Singapore Party\\'s Leong Mun Wai, no further action taken after he apologised to the Non-Constituency MP.\\n\\nBack then, Dr Balakrishnan was caught on mic saying \"He\\'s illiterate\" and \"Seriously, how did he get into RI (Raffles Institution)?... Must have been a lousy school\".\\n',\n",
       "  'output': 'SINGAPORE: Parliamen'},\n",
       " {'id': 12,\n",
       "  'input': 'Gig workers are the “most financially stretched” group in Singapore amid the double whammy of high inflation and rising interest rates, said a study released by DBS on Thursday (Jul 13).\\n\\nSavings for this group have dropped to “unhealthy levels” with spending exceeding take-home incomes.\\n\\nThe expense-to-income ratio for gig workers was at 112 per cent as of May 2023 - significantly higher than the median customer who spends 57 per cent of his or her income - according to the annual study of about 1.2 million retail customers who use DBS as their main salary-crediting bank.',\n",
       "  'output': 'Gig workers are the '},\n",
       " {'id': 13,\n",
       "  'input': 'Gig workers are the “most financially stretched” group in Singapore amid the double whammy of high inflation and rising interest rates, said a study released by DBS on Thursday (Jul 13)',\n",
       "  'output': 'Gig workers are the '},\n",
       " {'id': 14,\n",
       "  'input': 'Gig workers are the “most financially stretched” group in Singapore amid the double whammy of high inflation and rising interest rates, said a study released by DBS on Thursday (Jul 13)',\n",
       "  'output': 'Gig workers are the '},\n",
       " {'id': 15,\n",
       "  'input': '\\nammy of high inflation and rising interest rates, said a study released by DBS on Thursday (Jul 13)',\n",
       "  'output': '\\nammy of high inflat'},\n",
       " {'id': 16,\n",
       "  'input': '\\nammy of high inflation and rising interest rates, said a study released by DBS on Thursday (Jul 13)',\n",
       "  'output': '\\nammy of high inflat'},\n",
       " {'id': 17,\n",
       "  'input': '\\nammy of high inflation and rising interest rates, said a study released by DBS on Thursday (Jul 13)',\n",
       "  'output': '\\nammy of high inflat'},\n",
       " {'id': 18, 'input': 'summarise ', 'output': 'summarise '},\n",
       " {'id': 19, 'input': 'summarise for me', 'output': 'summarise for me'},\n",
       " {'id': 20,\n",
       "  'input': 'summarise for me this sentence',\n",
       "  'output': 'summarise for me thi'},\n",
       " {'id': 21,\n",
       "  'input': 'summarise for me this sentence i think',\n",
       "  'output': 'summarise for me thi'},\n",
       " {'id': 22,\n",
       "  'input': 'summarise for me this sentence i think',\n",
       "  'output': 'summarise for me thi'},\n",
       " {'id': 23,\n",
       "  'input': 'summarise for me this sentence i think',\n",
       "  'output': 'summarise for me thi'},\n",
       " {'id': 24,\n",
       "  'input': 'summarise for me this sentence i think',\n",
       "  'output': 'summarise for me thi'},\n",
       " {'id': 25,\n",
       "  'input': 'summarise for me this sentence i think',\n",
       "  'output': 'summarise for me thi'},\n",
       " {'id': 26,\n",
       "  'input': 'summarise for me this sentence i think this is working ',\n",
       "  'output': 'summarise for me thi'},\n",
       " {'id': 27,\n",
       "  'input': 'summarise for me this sentence i think this is working ',\n",
       "  'output': 'summarise for me thi'},\n",
       " {'id': 28,\n",
       "  'input': 'summarise for me this sentence i think this is working ',\n",
       "  'output': 'summarise for me thi'},\n",
       " {'id': 29,\n",
       "  'input': 'dddnnnnnnnnnnnnnnnnnnn',\n",
       "  'output': 'dddnnnnnnnnnnnnnnnnn'},\n",
       " {'id': 30,\n",
       "  'input': 'dddnnnnnnnnnnnnnnnnnnnddddddd',\n",
       "  'output': 'dddnnnnnnnnnnnnnnnnn'},\n",
       " {'id': 31, 'input': 'summarising stuff', 'output': 'summarising stuff'},\n",
       " {'id': 32,\n",
       "  'input': 'summarising stuff is cool',\n",
       "  'output': 'summarising stuff is'},\n",
       " {'id': 33,\n",
       "  'input': 'summarising stuff is cool',\n",
       "  'output': 'summarising stuff is'},\n",
       " {'id': 34,\n",
       "  'input': 'summarising stuff is nottttt',\n",
       "  'output': 'summarising stuff is'},\n",
       " {'id': 35, 'input': 'ww', 'output': 'ww'}]"
      ]
     },
     "execution_count": 2,
     "metadata": {},
     "output_type": "execute_result"
    }
   ],
   "source": [
    "get_response = requests.get(BASE + '/conversions')\n",
    "get_response.json()"
   ]
  },
  {
   "attachments": {},
   "cell_type": "markdown",
   "metadata": {},
   "source": [
    "## Create a bunch of posts\n",
    "Currently no type checking, just checking to see if POST method successfully updates the data (updated to persistent storage via SQLite)"
   ]
  },
  {
   "cell_type": "code",
   "execution_count": 3,
   "metadata": {},
   "outputs": [],
   "source": [
    "INPUTS = [\n",
    "    'Lorem ipsum dolor sit amet. Sit numquam harum et quia repudiandae aut reiciendis doloremque ea optio molestias. Ut assumenda consequatur vel mollitia Quis ut eveniet magni sed voluptate assumenda At voluptates animi.',\n",
    "    'Ut autem dolor et temporibus ullam et voluptatem exercitationem sed tempore reiciendis. Eos repellat possimus in quia dolores et praesentium totam aut rerum velit. Qui magnam rerum non enim necessitatibus At eveniet rerum eum sunt sapiente est sint repellat ad molestias corrupti sit laboriosam voluptatem!',\n",
    "    'Aut placeat tempora et quae cupiditate hic accusamus consequatur. Et internos corrupti 33 rerum quae nam repudiandae rerum et eligendi beatae sit deleniti dolor et impedit laudantium.',\n",
    "    'Ad dolore rerum ea inventore impedit aut deserunt porro hic molestias tempora aut praesentium sint eum assumenda officiis! In quasi fugit cum accusamus fuga non quia dolores.',\n",
    "    'Rem internos laborum id ducimus deleniti id voluptas dolor ut necessitatibus assumenda qui sint ipsa ea veritatis consequatur! Ex voluptate mollitia et commodi iusto est alias eius qui rerum ipsa! Quo saepe consequuntur hic pariatur perferendis et omnis provident eos doloremque obcaecati et soluta modi. Ea quae quas sit nisi ipsum eum similique commodi?'\n",
    "]"
   ]
  },
  {
   "cell_type": "code",
   "execution_count": 36,
   "metadata": {},
   "outputs": [
    {
     "name": "stdout",
     "output_type": "stream",
     "text": [
      "200\n",
      "{'id': 14}\n",
      "200\n",
      "{'id': 15}\n",
      "200\n",
      "{'id': 16}\n",
      "200\n",
      "{'id': 17}\n",
      "200\n",
      "{'id': 18}\n"
     ]
    }
   ],
   "source": [
    "for i in range(len(INPUTS)):\n",
    "    post_response = requests.post(BASE + '/conversions', data=json.dumps({'input': INPUTS[i]}))\n",
    "    print(post_response.status_code)\n",
    "    try:\n",
    "        print(post_response.json())\n",
    "    except:\n",
    "        pass"
   ]
  },
  {
   "cell_type": "code",
   "execution_count": 37,
   "metadata": {},
   "outputs": [
    {
     "name": "stdout",
     "output_type": "stream",
     "text": [
      "200\n",
      "{'id': 19}\n",
      "200\n",
      "{'id': 20}\n",
      "200\n",
      "{'id': 21}\n",
      "200\n",
      "{'id': 22}\n",
      "200\n",
      "{'id': 23}\n"
     ]
    }
   ],
   "source": [
    "for i in range(len(INPUTS)):\n",
    "    post_response = requests.post(BASE + '/conversions', data={'input': INPUTS[i]})\n",
    "    print(post_response.status_code)\n",
    "    try:\n",
    "        print(post_response.json())\n",
    "    except:\n",
    "        pass"
   ]
  },
  {
   "cell_type": "code",
   "execution_count": 39,
   "metadata": {},
   "outputs": [
    {
     "name": "stdout",
     "output_type": "stream",
     "text": [
      "500\n",
      "b'Please provide key value pair with \"input\" as the key'\n",
      "500\n",
      "b'Please provide key value pair with \"input\" as the key'\n",
      "500\n",
      "b'Please provide key value pair with \"input\" as the key'\n",
      "500\n",
      "b'Please provide key value pair with \"input\" as the key'\n",
      "500\n",
      "b'Please provide key value pair with \"input\" as the key'\n"
     ]
    }
   ],
   "source": [
    "for i in range(len(INPUTS)):\n",
    "    post_response = requests.post(BASE + '/conversions', data={'some_other_key': INPUTS[i]})\n",
    "    print(post_response.status_code)\n",
    "    try:\n",
    "        print(post_response.json())\n",
    "    except:\n",
    "        print(post_response.content)\n",
    "        pass"
   ]
  },
  {
   "cell_type": "code",
   "execution_count": 23,
   "metadata": {},
   "outputs": [
    {
     "name": "stdout",
     "output_type": "stream",
     "text": [
      "500\n",
      "500\n",
      "500\n",
      "500\n",
      "500\n"
     ]
    }
   ],
   "source": [
    "for i in range(len(INPUTS)):\n",
    "    post_response = requests.post(BASE + '/conversions')\n",
    "    print(post_response.status_code)\n",
    "    try:\n",
    "        print(post_response.json())\n",
    "    except:\n",
    "        pass"
   ]
  },
  {
   "cell_type": "code",
   "execution_count": 3,
   "metadata": {},
   "outputs": [],
   "source": [
    "with open(\"summary_files/news.txt\", 'r', encoding='utf8') as f:\n",
    "    news_text = f.read()"
   ]
  },
  {
   "cell_type": "code",
   "execution_count": 4,
   "metadata": {},
   "outputs": [
    {
     "name": "stdout",
     "output_type": "stream",
     "text": [
      "200\n",
      "{'id': 36, 'input': 'WASHINGTON (AP) — The United States on Tuesday formally rejoined the U.N.’s scientific, educational and cultural organization after a five-year absence.\\n\\nThe U.S. return to the Paris-based UNESCO was based mainly on concerns that China has filled a leadership gap since the U.S. withdrew during the Trump administration. UNESCO’s governing board voted last week to approve the Biden administration’s proposal for the U.S. to rejoin.\\n\\nOn Monday, the U.S. delivered a document certifying it would accept the invitation. On Tuesday, UNESCO’s Director General Audrey Azoulay said it was official. A welcome ceremony with a flag-raising and VIP guests is expected in late July.\\n\\nThe Biden administration had announced last month that it would apply to rejoin the 193-member organization that plays a major role in setting international standards for artificial intelligence and technology education.\\n\\nThe U.S. is now the 194th member of UNESCO.\\n\\n“Our organization is once again moving towards universality,” Azoulay said. She called the return of the United States “excellent news for multilateralism as a whole. If we want to meet the challenges of our century, there can only be a collective response.”\\n\\nThe Trump administration in 2017 announced that the U.S. would withdraw from UNESCO, citing anti-Israel bias. That decision that took effect a year later.\\n\\nThe U.S. and Israel stopped financing UNESCO after it voted to include Palestine as a member state in 2011.\\n\\nThe Biden administration has requested $150 million for the 2024 budget to go toward UNESCO dues and arrears. The plan foresees similar requests for the ensuing years until the full debt of $619 million is paid off.\\n\\nThat makes up a big chunk of UNESCO’s $534 million annual operating budget. Before leaving, the U.S. contributed 22% of the agency’s overall funding.\\n\\nThe United States previously pulled out of UNESCO under the Reagan administration in 1984 because it viewed the agency as mismanaged, corrupt and used to advance Soviet interests. It rejoined in 2003 during George W. Bush’s presidency.', 'output': \"The U.S. is now the 194th member of UNESCO. A welcome ceremony with a flag-raising and VIP guests is expected in late July. The United States pulled out of UNESCO under the Reagan administration in 1984. It rejoined in 2003 during George W. Bush’s presidency, and again in 2010 under Barack Obama's administration. The U.N. agency plays a major role in setting international standards for artificial intelligence and technology education.. The Biden administration has requested $150 million for the 2024 budget to go toward UNESCO dues and arrears. The plan foresees similar requests for the ensuing years until the full debt of $619 million is paid.\"}\n"
     ]
    }
   ],
   "source": [
    "post_response = requests.post(BASE + '/conversions', {'input': news_text})\n",
    "print(post_response.status_code)\n",
    "try:\n",
    "    print(post_response.json())\n",
    "except:\n",
    "    pass"
   ]
  },
  {
   "cell_type": "code",
   "execution_count": null,
   "metadata": {},
   "outputs": [],
   "source": []
  },
  {
   "cell_type": "code",
   "execution_count": 5,
   "metadata": {},
   "outputs": [],
   "source": [
    "summary_response = post_response.json()"
   ]
  },
  {
   "cell_type": "code",
   "execution_count": 7,
   "metadata": {},
   "outputs": [
    {
     "data": {
      "text/plain": [
       "\"The U.S. is now the 194th member of UNESCO. A welcome ceremony with a flag-raising and VIP guests is expected in late July. The United States pulled out of UNESCO under the Reagan administration in 1984. It rejoined in 2003 during George W. Bush’s presidency, and again in 2010 under Barack Obama's administration. The U.N. agency plays a major role in setting international standards for artificial intelligence and technology education.. The Biden administration has requested $150 million for the 2024 budget to go toward UNESCO dues and arrears. The plan foresees similar requests for the ensuing years until the full debt of $619 million is paid.\""
      ]
     },
     "execution_count": 7,
     "metadata": {},
     "output_type": "execute_result"
    }
   ],
   "source": [
    "summary_response['output']"
   ]
  },
  {
   "cell_type": "code",
   "execution_count": 40,
   "metadata": {},
   "outputs": [
    {
     "data": {
      "text/plain": [
       "[{'id': 1,\n",
       "  'input': 'Lorem ipsum dolor sit amet, consectetur adipiscing elit, sed do eiusmod tempor incididunt ut labore et dolore magna aliqua. Ut enim ad minim veniam, quis nostrud exercitation ullamco laboris nisi ut aliquip ex ea commodo consequat. Duis aute irure dolor in reprehenderit in voluptate velit esse cillum dolore eu fugiat nulla pariatur. Excepteur sint occaecat cupidatat non proident, sunt in culpa qui officia deserunt mollit anim id est laborum.',\n",
       "  'output': 'Lorem ipsum dolor sit amet, deserunt mollit anim id est laborum.'},\n",
       " {'id': 2,\n",
       "  'input': 'Sed ut perspiciatis unde omnis iste natus error sit voluptatem accusantium doloremque laudantium, totam rem aperiam, eaque ipsa quae ab illo inventore veritatis et quasi architecto beatae vitae dicta sunt explicabo. Nemo enim ipsam voluptatem quia voluptas sit aspernatur aut odit aut fugit, sed quia consequuntur magni dolores eos qui ratione voluptatem sequi nesciunt. Neque porro quisquam est, qui dolorem ipsum quia dolor sit amet, consectetur, adipisci velit, sed quia non numquam eius modi tempora incidunt ut labore et dolore magnam aliquam quaerat voluptatem. Ut enim ad minima veniam, quis nostrum exercitationem ullam corporis suscipit laboriosam, nisi ut aliquid ex ea commodi consequatur? Quis autem vel eum iure reprehenderit qui in ea voluptate velit esse quam nihil molestiae consequatur, vel illum qui dolorem eum fugiat quo voluptas nulla pariatur?',\n",
       "  'output': 'Sed ut perspiciatis unde omnis iste natus error sit voluptatem accusantium fugiat quo voluptas nulla pariatur?'},\n",
       " {'id': 3,\n",
       "  'input': 'At vero eos et accusamus et iusto odio dignissimos ducimus qui blanditiis praesentium voluptatum deleniti atque corrupti quos dolores et quas molestias excepturi sint occaecati cupiditate non provident, similique sunt in culpa qui officia deserunt mollitia animi, id est laborum et dolorum fuga. Et harum quidem rerum facilis est et expedita distinctio. Nam libero tempore, cum soluta nobis est eligendi optio cumque nihil impedit quo minus id quod maxime placeat facere possimus, omnis voluptas assumenda est, omnis dolor repellendus. Temporibus autem quibusdam et aut officiis debitis aut rerum necessitatibus saepe eveniet ut et voluptates repudiandae sint et molestiae non recusandae. Itaque earum rerum hic tenetur a sapiente delectus, ut aut reiciendis voluptatibus maiores alias consequatur aut perferendis doloribus asperiores repellat.',\n",
       "  'output': 'At vero eos et accus'},\n",
       " {'id': 4,\n",
       "  'input': 'Lorem ipsum dolor sit amet. Sit numquam harum et quia repudiandae aut reiciendis doloremque ea optio molestias. Ut assumenda consequatur vel mollitia Quis ut eveniet magni sed voluptate assumenda At voluptates animi.',\n",
       "  'output': 'Lorem ipsum dolor si'},\n",
       " {'id': 5,\n",
       "  'input': 'Ut autem dolor et temporibus ullam et voluptatem exercitationem sed tempore reiciendis. Eos repellat possimus in quia dolores et praesentium totam aut rerum velit. Qui magnam rerum non enim necessitatibus At eveniet rerum eum sunt sapiente est sint repellat ad molestias corrupti sit laboriosam voluptatem!',\n",
       "  'output': 'Ut autem dolor et te'},\n",
       " {'id': 6,\n",
       "  'input': 'Aut placeat tempora et quae cupiditate hic accusamus consequatur. Et internos corrupti 33 rerum quae nam repudiandae rerum et eligendi beatae sit deleniti dolor et impedit laudantium.',\n",
       "  'output': 'Aut placeat tempora '},\n",
       " {'id': 7,\n",
       "  'input': 'Ad dolore rerum ea inventore impedit aut deserunt porro hic molestias tempora aut praesentium sint eum assumenda officiis! In quasi fugit cum accusamus fuga non quia dolores.',\n",
       "  'output': 'Ad dolore rerum ea i'},\n",
       " {'id': 8,\n",
       "  'input': 'Rem internos laborum id ducimus deleniti id voluptas dolor ut necessitatibus assumenda qui sint ipsa ea veritatis consequatur! Ex voluptate mollitia et commodi iusto est alias eius qui rerum ipsa! Quo saepe consequuntur hic pariatur perferendis et omnis provident eos doloremque obcaecati et soluta modi. Ea quae quas sit nisi ipsum eum similique commodi?',\n",
       "  'output': 'Rem internos laborum'},\n",
       " {'id': 9,\n",
       "  'input': 'Lorem ipsum dolor sit amet. Sit numquam harum et quia repudiandae aut reiciendis doloremque ea optio molestias. Ut assumenda consequatur vel mollitia Quis ut eveniet magni sed voluptate assumenda At voluptates animi.',\n",
       "  'output': 'Lorem ipsum dolor si'},\n",
       " {'id': 10,\n",
       "  'input': 'Ut autem dolor et temporibus ullam et voluptatem exercitationem sed tempore reiciendis. Eos repellat possimus in quia dolores et praesentium totam aut rerum velit. Qui magnam rerum non enim necessitatibus At eveniet rerum eum sunt sapiente est sint repellat ad molestias corrupti sit laboriosam voluptatem!',\n",
       "  'output': 'Ut autem dolor et te'},\n",
       " {'id': 11,\n",
       "  'input': 'Aut placeat tempora et quae cupiditate hic accusamus consequatur. Et internos corrupti 33 rerum quae nam repudiandae rerum et eligendi beatae sit deleniti dolor et impedit laudantium.',\n",
       "  'output': 'Aut placeat tempora '},\n",
       " {'id': 12,\n",
       "  'input': 'Ad dolore rerum ea inventore impedit aut deserunt porro hic molestias tempora aut praesentium sint eum assumenda officiis! In quasi fugit cum accusamus fuga non quia dolores.',\n",
       "  'output': 'Ad dolore rerum ea i'},\n",
       " {'id': 13,\n",
       "  'input': 'Rem internos laborum id ducimus deleniti id voluptas dolor ut necessitatibus assumenda qui sint ipsa ea veritatis consequatur! Ex voluptate mollitia et commodi iusto est alias eius qui rerum ipsa! Quo saepe consequuntur hic pariatur perferendis et omnis provident eos doloremque obcaecati et soluta modi. Ea quae quas sit nisi ipsum eum similique commodi?',\n",
       "  'output': 'Rem internos laborum'},\n",
       " {'id': 14,\n",
       "  'input': 'Lorem ipsum dolor sit amet. Sit numquam harum et quia repudiandae aut reiciendis doloremque ea optio molestias. Ut assumenda consequatur vel mollitia Quis ut eveniet magni sed voluptate assumenda At voluptates animi.',\n",
       "  'output': 'Lorem ipsum dolor si'},\n",
       " {'id': 15,\n",
       "  'input': 'Ut autem dolor et temporibus ullam et voluptatem exercitationem sed tempore reiciendis. Eos repellat possimus in quia dolores et praesentium totam aut rerum velit. Qui magnam rerum non enim necessitatibus At eveniet rerum eum sunt sapiente est sint repellat ad molestias corrupti sit laboriosam voluptatem!',\n",
       "  'output': 'Ut autem dolor et te'},\n",
       " {'id': 16,\n",
       "  'input': 'Aut placeat tempora et quae cupiditate hic accusamus consequatur. Et internos corrupti 33 rerum quae nam repudiandae rerum et eligendi beatae sit deleniti dolor et impedit laudantium.',\n",
       "  'output': 'Aut placeat tempora '},\n",
       " {'id': 17,\n",
       "  'input': 'Ad dolore rerum ea inventore impedit aut deserunt porro hic molestias tempora aut praesentium sint eum assumenda officiis! In quasi fugit cum accusamus fuga non quia dolores.',\n",
       "  'output': 'Ad dolore rerum ea i'},\n",
       " {'id': 18,\n",
       "  'input': 'Rem internos laborum id ducimus deleniti id voluptas dolor ut necessitatibus assumenda qui sint ipsa ea veritatis consequatur! Ex voluptate mollitia et commodi iusto est alias eius qui rerum ipsa! Quo saepe consequuntur hic pariatur perferendis et omnis provident eos doloremque obcaecati et soluta modi. Ea quae quas sit nisi ipsum eum similique commodi?',\n",
       "  'output': 'Rem internos laborum'},\n",
       " {'id': 19,\n",
       "  'input': 'Lorem ipsum dolor sit amet. Sit numquam harum et quia repudiandae aut reiciendis doloremque ea optio molestias. Ut assumenda consequatur vel mollitia Quis ut eveniet magni sed voluptate assumenda At voluptates animi.',\n",
       "  'output': 'Lorem ipsum dolor si'},\n",
       " {'id': 20,\n",
       "  'input': 'Ut autem dolor et temporibus ullam et voluptatem exercitationem sed tempore reiciendis. Eos repellat possimus in quia dolores et praesentium totam aut rerum velit. Qui magnam rerum non enim necessitatibus At eveniet rerum eum sunt sapiente est sint repellat ad molestias corrupti sit laboriosam voluptatem!',\n",
       "  'output': 'Ut autem dolor et te'},\n",
       " {'id': 21,\n",
       "  'input': 'Aut placeat tempora et quae cupiditate hic accusamus consequatur. Et internos corrupti 33 rerum quae nam repudiandae rerum et eligendi beatae sit deleniti dolor et impedit laudantium.',\n",
       "  'output': 'Aut placeat tempora '},\n",
       " {'id': 22,\n",
       "  'input': 'Ad dolore rerum ea inventore impedit aut deserunt porro hic molestias tempora aut praesentium sint eum assumenda officiis! In quasi fugit cum accusamus fuga non quia dolores.',\n",
       "  'output': 'Ad dolore rerum ea i'},\n",
       " {'id': 23,\n",
       "  'input': 'Rem internos laborum id ducimus deleniti id voluptas dolor ut necessitatibus assumenda qui sint ipsa ea veritatis consequatur! Ex voluptate mollitia et commodi iusto est alias eius qui rerum ipsa! Quo saepe consequuntur hic pariatur perferendis et omnis provident eos doloremque obcaecati et soluta modi. Ea quae quas sit nisi ipsum eum similique commodi?',\n",
       "  'output': 'Rem internos laborum'}]"
      ]
     },
     "execution_count": 40,
     "metadata": {},
     "output_type": "execute_result"
    }
   ],
   "source": [
    "get_response = requests.get(BASE + '/conversions')\n",
    "get_response.json()"
   ]
  },
  {
   "attachments": {},
   "cell_type": "markdown",
   "metadata": {},
   "source": [
    "## Testing out accessing conversion by ID"
   ]
  },
  {
   "cell_type": "code",
   "execution_count": 42,
   "metadata": {},
   "outputs": [
    {
     "data": {
      "text/plain": [
       "23"
      ]
     },
     "execution_count": 42,
     "metadata": {},
     "output_type": "execute_result"
    }
   ],
   "source": [
    "length = len(get_response.json())\n",
    "length"
   ]
  },
  {
   "cell_type": "code",
   "execution_count": 13,
   "metadata": {},
   "outputs": [
    {
     "name": "stdout",
     "output_type": "stream",
     "text": [
      "200\n",
      "{'id': 1, 'input': 'Lorem ipsum dolor sit amet, consectetur adipiscing elit, sed do eiusmod tempor incididunt ut labore et dolore magna aliqua. Ut enim ad minim veniam, quis nostrud exercitation ullamco laboris nisi ut aliquip ex ea commodo consequat. Duis aute irure dolor in reprehenderit in voluptate velit esse cillum dolore eu fugiat nulla pariatur. Excepteur sint occaecat cupidatat non proident, sunt in culpa qui officia deserunt mollit anim id est laborum.', 'output': 'Lorem ipsum dolor sit amet, deserunt mollit anim id est laborum.'}\n",
      "200\n",
      "{'id': 5, 'input': 'Ut autem dolor et temporibus ullam et voluptatem exercitationem sed tempore reiciendis. Eos repellat possimus in quia dolores et praesentium totam aut rerum velit. Qui magnam rerum non enim necessitatibus At eveniet rerum eum sunt sapiente est sint repellat ad molestias corrupti sit laboriosam voluptatem!', 'output': 'Ut autem dolor et te'}\n",
      "200\n",
      "{'id': 4, 'input': 'Lorem ipsum dolor sit amet. Sit numquam harum et quia repudiandae aut reiciendis doloremque ea optio molestias. Ut assumenda consequatur vel mollitia Quis ut eveniet magni sed voluptate assumenda At voluptates animi.', 'output': 'Lorem ipsum dolor si'}\n"
     ]
    }
   ],
   "source": [
    "for i in range(3):\n",
    "    rand = random.randrange(1, length)\n",
    "    get_by_id = requests.get(BASE + '/conversions/' + str(rand))\n",
    "    print(get_by_id.status_code)\n",
    "    try:\n",
    "        print(get_by_id.json())\n",
    "    except:\n",
    "        pass\n"
   ]
  },
  {
   "attachments": {},
   "cell_type": "markdown",
   "metadata": {},
   "source": [
    "## Delete all except first 3 by looping through each ID"
   ]
  },
  {
   "cell_type": "code",
   "execution_count": 44,
   "metadata": {},
   "outputs": [
    {
     "name": "stdout",
     "output_type": "stream",
     "text": [
      "200\n",
      "{'deleted_id': 4}\n",
      "200\n",
      "{'deleted_id': 5}\n",
      "200\n",
      "{'deleted_id': 6}\n",
      "200\n",
      "{'deleted_id': 7}\n",
      "200\n",
      "{'deleted_id': 8}\n",
      "200\n",
      "{'deleted_id': 9}\n",
      "200\n",
      "{'deleted_id': 10}\n",
      "200\n",
      "{'deleted_id': 11}\n",
      "200\n",
      "{'deleted_id': 12}\n",
      "200\n",
      "{'deleted_id': 13}\n",
      "200\n",
      "{'deleted_id': 14}\n",
      "200\n",
      "{'deleted_id': 15}\n",
      "200\n",
      "{'deleted_id': 16}\n",
      "200\n",
      "{'deleted_id': 17}\n",
      "200\n",
      "{'deleted_id': 18}\n",
      "200\n",
      "{'deleted_id': 19}\n",
      "200\n",
      "{'deleted_id': 20}\n",
      "200\n",
      "{'deleted_id': 21}\n",
      "200\n",
      "{'deleted_id': 22}\n",
      "200\n",
      "{'deleted_id': 23}\n"
     ]
    }
   ],
   "source": [
    "for i in range(4, length + 1):\n",
    "    delete_response = requests.delete(BASE + '/conversions/' + str(i))\n",
    "    print(delete_response.status_code)\n",
    "    try:\n",
    "        print(delete_response.json())\n",
    "    except:\n",
    "        pass"
   ]
  }
 ],
 "metadata": {
  "kernelspec": {
   "display_name": "venv",
   "language": "python",
   "name": "python3"
  },
  "language_info": {
   "codemirror_mode": {
    "name": "ipython",
    "version": 3
   },
   "file_extension": ".py",
   "mimetype": "text/x-python",
   "name": "python",
   "nbconvert_exporter": "python",
   "pygments_lexer": "ipython3",
   "version": "3.11.3"
  },
  "orig_nbformat": 4
 },
 "nbformat": 4,
 "nbformat_minor": 2
}
